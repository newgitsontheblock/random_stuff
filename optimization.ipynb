{
 "cells": [
  {
   "cell_type": "markdown",
   "metadata": {},
   "source": [
    "# Libraries"
   ]
  },
  {
   "cell_type": "code",
   "execution_count": 3,
   "metadata": {},
   "outputs": [],
   "source": [
    "from pyomo.environ import *"
   ]
  },
  {
   "cell_type": "markdown",
   "metadata": {},
   "source": [
    "# Food Manufacture 1"
   ]
  },
  {
   "cell_type": "code",
   "execution_count": 11,
   "metadata": {},
   "outputs": [],
   "source": [
    "mdl = AbstractModel()"
   ]
  },
  {
   "cell_type": "markdown",
   "metadata": {},
   "source": [
    "## Sets"
   ]
  },
  {
   "cell_type": "markdown",
   "metadata": {},
   "source": [
    "$O$ Oils\n",
    "\n",
    "$T$ Time periods"
   ]
  },
  {
   "cell_type": "code",
   "execution_count": 12,
   "metadata": {},
   "outputs": [],
   "source": [
    "mdl.O = Set()\n",
    "mdl.T = Set()"
   ]
  },
  {
   "cell_type": "markdown",
   "metadata": {},
   "source": [
    "## Parameters"
   ]
  },
  {
   "cell_type": "markdown",
   "metadata": {},
   "source": [
    "$h_o$ Hardness of oil o\n",
    "\n",
    "$g_{t,o}$ Purchase price of oil o in period t\n",
    "\n",
    "$p$ Unit sales price of final product per ton\n",
    "\n",
    "$q$ Storage cost per product and period"
   ]
  },
  {
   "cell_type": "code",
   "execution_count": 13,
   "metadata": {},
   "outputs": [],
   "source": [
    "mdl.h = Param(mdl.O)\n",
    "mdl.g = Param(mdl.T, mdl.O)\n",
    "mdl.p = Param(within=NonNegativeReals)\n",
    "mdl.q = Param(within=NonNegativeReals)"
   ]
  },
  {
   "cell_type": "markdown",
   "metadata": {},
   "source": [
    "## Variables"
   ]
  },
  {
   "cell_type": "markdown",
   "metadata": {},
   "source": [
    "$b_{t,o}$ Oil o bought in period t\n",
    "\n",
    "$u_{t,o}$ Oil o used in period t\n",
    "\n",
    "$s_{t,o}$ Oil o stored in period t\n",
    "\n",
    "$f_t$ Food produced in period t\n",
    "\n",
    "$b_{t,o},u_{t,o},s_{t,o}\\geq 0\\:\\forall t\\in T,\\forall o\\in O$\n",
    "\n",
    "$f_t\\geq 0\\:\\forall t\\in T$"
   ]
  },
  {
   "cell_type": "code",
   "execution_count": 14,
   "metadata": {},
   "outputs": [],
   "source": [
    "mdl.b = Var(mdl.T, mdl.O, domain=NonNegativeReals)\n",
    "mdl.u = Var(mdl.T, mdl.O, domain=NonNegativeReals)\n",
    "mdl.s = Var(mdl.T, mdl.O, bounds=(0, 1000), domain=NonNegativeReals)\n",
    "mdl.f = Var(mdl.T, domain=NonNegativeReals)"
   ]
  },
  {
   "cell_type": "markdown",
   "metadata": {},
   "source": [
    "## Objective Function"
   ]
  },
  {
   "cell_type": "markdown",
   "metadata": {},
   "source": [
    "$\\max\\sum\\limits_{t\\in T}(p*f_t)-\\sum\\limits_{t\\in T}\\sum\\limits_{o\\in O}(g_{t,o}*b_{t,o}+q*s_{t,o})$"
   ]
  },
  {
   "cell_type": "code",
   "execution_count": 15,
   "metadata": {},
   "outputs": [],
   "source": [
    "def max_profit(mdl):\n",
    "    Revenue = sum(mdl.p * mdl.f[t] for t in mdl.T)\n",
    "    RawCost = sum(mdl.g[t, o] * mdl.b[t, o] for t in mdl.T for o in mdl.O)\n",
    "    StorageCost = sum(mdl.q * mdl.s[t, o] for t in mdl.T for o in mdl.O)\n",
    "    return Revenue - RawCost - StorageCost\n",
    "\n",
    "mdl.OBJ = Objective(rule=max_profit, sense=maximize)"
   ]
  },
  {
   "cell_type": "markdown",
   "metadata": {},
   "source": [
    "## Constraints"
   ]
  },
  {
   "cell_type": "markdown",
   "metadata": {},
   "source": [
    "**balance**\n",
    "\n",
    "$\\sum\\limits_{o\\in O}u_{t,o}=f_t\\:\\forall t\\in T$\n",
    "\n",
    "$500+b_{t_0,o}=u_{t_0}+s_{t_0,o}\\:\\forall o\\in O$\n",
    "\n",
    "$s_{t-1,o}+b_{t,o}=u_{t,o}+s_{t,o}\\:\\forall t\\in T\\setminus{t_0}, \\forall o\\in O$\n",
    "\n",
    "$s_{t_e,o}=500\\:\\forall o\\in O$\n",
    "\n",
    "**production**\n",
    "\n",
    "$\\sum\\limits_{o\\in V}u_{t,o}\\leq 200\\:\\forall t\\in T$\n",
    "\n",
    "$\\sum\\limits_{o\\in N}u_{t,o}\\leq 250\\:\\forall t\\in T$\n",
    "\n",
    "**quality**\n",
    "\n",
    "$3*f_t\\leq\\sum\\limits_{o\\in O}h_o*u_{t,o}\\leq 6*f_t$"
   ]
  },
  {
   "cell_type": "code",
   "execution_count": 16,
   "metadata": {},
   "outputs": [],
   "source": [
    "def material_balance_expr(mdl, t):\n",
    "    return sum(mdl.u[t, o] for o in mdl.O) == mdl.f[t]\n",
    "\n",
    "mdl.material_balance_con = Constraint(mdl.T, rule=material_balance_expr)\n",
    "\n",
    "def initial_balance_expr(mdl, o):\n",
    "    return 500 + mdl.b[1, o] == mdl.u[1, o] + mdl.s[1, o]\n",
    "\n",
    "mdl.initial_balance_con = Constraint(mdl.O, rule=initial_balance_expr)\n",
    "\n",
    "def flow_balance_expr(mdl, t, o):\n",
    "    if t >= 2:\n",
    "        return mdl.s[t-1, o] + mdl.b[t, o] == mdl.u[t, o] + mdl.s[t, o]\n",
    "    return Constraint.Skip\n",
    "\n",
    "mdl.flow_balance_con = Constraint(mdl.T, mdl.O, rule=flow_balance_expr)\n",
    "\n",
    "def end_balance_expr(mdl, o):\n",
    "    return mdl.s[6, o] == 500\n",
    "\n",
    "mdl.end_balance_con = Constraint(mdl.O, rule=end_balance_expr)\n",
    "\n",
    "def veg_ub_expr(mdl, t):\n",
    "    return sum(mdl.u[t, o] for o in mdl.O if 'VEG' in o) <= 200\n",
    "\n",
    "mdl.veg_ub_con = Constraint(mdl.T, rule=veg_ub_expr)\n",
    "\n",
    "def nonveg_ub_expr(mdl, t):\n",
    "    return sum(mdl.u[t, o] for o in mdl.O if 'OIL' in o) <= 250\n",
    "\n",
    "mdl.nonveg_ub_con = Constraint(mdl.T, rule=nonveg_ub_expr)\n",
    "\n",
    "def hardness_lb_expr(mdl, t):\n",
    "    return sum(mdl.h[o] * mdl.u[t,o] for o in mdl.O) >= 3 * mdl.f[t]\n",
    "\n",
    "mdl.hardness_lb_con = Constraint(mdl.T, rule=hardness_lb_expr)\n",
    "\n",
    "def hardness_ub_expr(mdl, t):\n",
    "    return sum(mdl.h[o] * mdl.u[t,o] for o in mdl.O) <= 6 * mdl.f[t]\n",
    "\n",
    "mdl.hardness_ub_con = Constraint(mdl.T, rule=hardness_ub_expr)"
   ]
  },
  {
   "cell_type": "markdown",
   "metadata": {},
   "source": [
    "## Solve"
   ]
  },
  {
   "cell_type": "code",
   "execution_count": 28,
   "metadata": {},
   "outputs": [],
   "source": [
    "data = {None: {\n",
    "    'O': {None: ['VEG1', 'VEG2', 'OIL1', 'OIL2', 'OIL3']},\n",
    "    'T': {None: [1, 2, 3, 4, 5, 6]},\n",
    "    'h': {'VEG1': 8.8, 'VEG2': 6.1, 'OIL1': 2, 'OIL2': 4.2, 'OIL3': 5},\n",
    "    'g': {(1,'VEG1'): 110, (2,'VEG1'): 130, (3,'VEG1'): 110, (4,'VEG1'): 120, (5,'VEG1'): 100, (6,'VEG1'): 90,\n",
    "          (1,'VEG2'): 120, (2,'VEG2'): 130, (3,'VEG2'): 140, (4,'VEG2'): 110, (5,'VEG2'): 120, (6,'VEG2'): 100,\n",
    "          (1,'OIL1'): 130, (2,'OIL1'): 110, (3,'OIL1'): 130, (4,'OIL1'): 120, (5,'OIL1'): 150, (6,'OIL1'): 140,\n",
    "          (1,'OIL2'): 110, (2,'OIL2'): 90, (3,'OIL2'): 100, (4,'OIL2'): 120, (5,'OIL2'): 110, (6,'OIL2'): 80,\n",
    "          (1,'OIL3'): 115, (2,'OIL3'): 115, (3,'OIL3'): 95, (4,'OIL3'): 125, (5,'OIL3'): 105, (6,'OIL3'): 135},\n",
    "    'p': {None: 150},\n",
    "    'q': {None: 5}\n",
    "}}"
   ]
  },
  {
   "cell_type": "code",
   "execution_count": 29,
   "metadata": {
    "scrolled": false
   },
   "outputs": [
    {
     "name": "stdout",
     "output_type": "stream",
     "text": [
      "GLPSOL: GLPK LP/MIP Solver, v4.65\n",
      "Parameter(s) specified in the command line:\n",
      " --write /tmp/tmp1i8tfukf.glpk.raw --wglp /tmp/tmpzsdxy804.glpk.glp --cpxlp\n",
      " /tmp/tmpi_sa7iy8.pyomo.lp\n",
      "Reading problem data from '/tmp/tmpi_sa7iy8.pyomo.lp'...\n",
      "66 rows, 97 columns, 259 non-zeros\n",
      "627 lines were read\n",
      "Writing problem data to '/tmp/tmpzsdxy804.glpk.glp'...\n",
      "556 lines were written\n",
      "GLPK Simplex Optimizer, v4.65\n",
      "66 rows, 97 columns, 259 non-zeros\n",
      "Preprocessing...\n",
      "60 rows, 61 columns, 218 non-zeros\n",
      "Scaling...\n",
      " A: min|aij| =  1.000e+00  max|aij| =  8.800e+00  ratio =  8.800e+00\n",
      "Problem data seem to be well scaled\n",
      "Constructing initial basis...\n",
      "Size of triangular part is 60\n",
      "      0: obj =   7.500000000e+03 inf =   2.500e+03 (5)\n",
      "     38: obj =   2.707592593e+04 inf =   0.000e+00 (0)\n",
      "*    54: obj =   1.078425926e+05 inf =   0.000e+00 (0)\n",
      "OPTIMAL LP SOLUTION FOUND\n",
      "Time used:   0.0 secs\n",
      "Memory used: 0.1 Mb (136997 bytes)\n",
      "Writing basic solution to '/tmp/tmp1i8tfukf.glpk.raw'...\n",
      "172 lines were written\n"
     ]
    }
   ],
   "source": [
    "instance = mdl.create_instance(data)\n",
    "opt = SolverFactory('glpk')\n",
    "foodManufacture1_results = opt.solve(instance, tee=True)"
   ]
  },
  {
   "cell_type": "markdown",
   "metadata": {},
   "source": [
    "## Result"
   ]
  },
  {
   "cell_type": "markdown",
   "metadata": {},
   "source": [
    "Variables"
   ]
  },
  {
   "cell_type": "code",
   "execution_count": 30,
   "metadata": {},
   "outputs": [
    {
     "name": "stdout",
     "output_type": "stream",
     "text": [
      "b\n",
      "  (1, 'VEG1') 0.0\n",
      "  (1, 'VEG2') 0.0\n",
      "  (1, 'OIL1') 0.0\n",
      "  (1, 'OIL2') 0.0\n",
      "  (1, 'OIL3') 0.0\n",
      "  (2, 'VEG1') 0.0\n",
      "  (2, 'VEG2') 0.0\n",
      "  (2, 'OIL1') 0.0\n",
      "  (2, 'OIL2') 250.0\n",
      "  (2, 'OIL3') 0.0\n",
      "  (3, 'VEG1') 0.0\n",
      "  (3, 'VEG2') 0.0\n",
      "  (3, 'OIL1') 0.0\n",
      "  (3, 'OIL2') 0.0\n",
      "  (3, 'OIL3') 0.0\n",
      "  (4, 'VEG1') 0.0\n",
      "  (4, 'VEG2') 0.0\n",
      "  (4, 'OIL1') 0.0\n",
      "  (4, 'OIL2') 0.0\n",
      "  (4, 'OIL3') 0.0\n",
      "  (5, 'VEG1') 0.0\n",
      "  (5, 'VEG2') 0.0\n",
      "  (5, 'OIL1') 0.0\n",
      "  (5, 'OIL2') 0.0\n",
      "  (5, 'OIL3') 499.999999999997\n",
      "  (6, 'VEG1') 659.259259259259\n",
      "  (6, 'VEG2') 540.74074074074\n",
      "  (6, 'OIL1') 0.0\n",
      "  (6, 'OIL2') 750.0\n",
      "  (6, 'OIL3') 0.0\n",
      "u\n",
      "  (1, 'VEG1') 11.1111111111093\n",
      "  (1, 'VEG2') 188.888888888892\n",
      "  (1, 'OIL1') 0.0\n",
      "  (1, 'OIL2') 250.0\n",
      "  (1, 'OIL3') 0.0\n",
      "  (2, 'VEG1') 85.1851851851852\n",
      "  (2, 'VEG2') 114.814814814815\n",
      "  (2, 'OIL1') 0.0\n",
      "  (2, 'OIL2') 0.0\n",
      "  (2, 'OIL3') 250.0\n",
      "  (3, 'VEG1') 85.1851851851853\n",
      "  (3, 'VEG2') 114.814814814814\n",
      "  (3, 'OIL1') 0.0\n",
      "  (3, 'OIL2') 0.0\n",
      "  (3, 'OIL3') 250.0\n",
      "  (4, 'VEG1') 159.259259259258\n",
      "  (4, 'VEG2') 40.7407407407431\n",
      "  (4, 'OIL1') 0.0\n",
      "  (4, 'OIL2') 249.999999999999\n",
      "  (4, 'OIL3') 0.0\n",
      "  (5, 'VEG1') 159.259259259263\n",
      "  (5, 'VEG2') 40.7407407407368\n",
      "  (5, 'OIL1') 0.0\n",
      "  (5, 'OIL2') 250.000000000006\n",
      "  (5, 'OIL3') 0.0\n",
      "  (6, 'VEG1') 159.259259259259\n",
      "  (6, 'VEG2') 40.7407407407413\n",
      "  (6, 'OIL1') 0.0\n",
      "  (6, 'OIL2') 250.0\n",
      "  (6, 'OIL3') 0.0\n",
      "s\n",
      "  (1, 'VEG1') 488.888888888892\n",
      "  (1, 'VEG2') 311.11111111111\n",
      "  (1, 'OIL1') 500.0\n",
      "  (1, 'OIL2') 250.000000000005\n",
      "  (1, 'OIL3') 500.000000000003\n",
      "  (2, 'VEG1') 403.703703703707\n",
      "  (2, 'VEG2') 196.296296296295\n",
      "  (2, 'OIL1') 500.0\n",
      "  (2, 'OIL2') 500.000000000005\n",
      "  (2, 'OIL3') 250.000000000003\n",
      "  (3, 'VEG1') 318.518518518521\n",
      "  (3, 'VEG2') 81.4814814814816\n",
      "  (3, 'OIL1') 500.0\n",
      "  (3, 'OIL2') 500.000000000005\n",
      "  (3, 'OIL3') 2.55795384873636e-12\n",
      "  (4, 'VEG1') 159.259259259263\n",
      "  (4, 'VEG2') 40.7407407407385\n",
      "  (4, 'OIL1') 500.0\n",
      "  (4, 'OIL2') 250.000000000006\n",
      "  (4, 'OIL3') 2.55795384873636e-12\n",
      "  (5, 'VEG1') 0.0\n",
      "  (5, 'VEG2') 1.71951342053944e-12\n",
      "  (5, 'OIL1') 500.0\n",
      "  (5, 'OIL2') 0.0\n",
      "  (5, 'OIL3') 500.0\n",
      "  (6, 'VEG1') 500.0\n",
      "  (6, 'VEG2') 500.0\n",
      "  (6, 'OIL1') 500.0\n",
      "  (6, 'OIL2') 500.0\n",
      "  (6, 'OIL3') 500.0\n",
      "f\n",
      "  1 450.000000000001\n",
      "  2 450.0\n",
      "  3 449.999999999997\n",
      "  4 450.0\n",
      "  5 450.000000000006\n",
      "  6 450.0\n"
     ]
    }
   ],
   "source": [
    "for v in instance.component_objects(Var, active=True):\n",
    "    print(v)\n",
    "    for index in v:\n",
    "        print(' ', index, value(v[index]))"
   ]
  },
  {
   "cell_type": "markdown",
   "metadata": {},
   "source": [
    "Parameters"
   ]
  },
  {
   "cell_type": "code",
   "execution_count": 31,
   "metadata": {},
   "outputs": [
    {
     "name": "stdout",
     "output_type": "stream",
     "text": [
      "h\n",
      "  VEG1 8.8\n",
      "  VEG2 6.1\n",
      "  OIL1 2\n",
      "  OIL2 4.2\n",
      "  OIL3 5\n",
      "g\n",
      "  (1, 'VEG1') 110\n",
      "  (2, 'VEG1') 130\n",
      "  (3, 'VEG1') 110\n",
      "  (4, 'VEG1') 120\n",
      "  (5, 'VEG1') 100\n",
      "  (6, 'VEG1') 90\n",
      "  (1, 'VEG2') 120\n",
      "  (2, 'VEG2') 130\n",
      "  (3, 'VEG2') 140\n",
      "  (4, 'VEG2') 110\n",
      "  (5, 'VEG2') 120\n",
      "  (6, 'VEG2') 100\n",
      "  (1, 'OIL1') 130\n",
      "  (2, 'OIL1') 110\n",
      "  (3, 'OIL1') 130\n",
      "  (4, 'OIL1') 120\n",
      "  (5, 'OIL1') 150\n",
      "  (6, 'OIL1') 140\n",
      "  (1, 'OIL2') 110\n",
      "  (2, 'OIL2') 90\n",
      "  (3, 'OIL2') 100\n",
      "  (4, 'OIL2') 120\n",
      "  (5, 'OIL2') 110\n",
      "  (6, 'OIL2') 80\n",
      "  (1, 'OIL3') 115\n",
      "  (2, 'OIL3') 115\n",
      "  (3, 'OIL3') 95\n",
      "  (4, 'OIL3') 125\n",
      "  (5, 'OIL3') 105\n",
      "  (6, 'OIL3') 135\n",
      "p\n",
      "  None p\n",
      "q\n",
      "  None q\n"
     ]
    }
   ],
   "source": [
    "for p in instance.component_objects(Param, active=True):\n",
    "    print(p.name)\n",
    "    for index in p:\n",
    "        print(' ', index,p[index])"
   ]
  },
  {
   "cell_type": "markdown",
   "metadata": {},
   "source": [
    "# Food Manufacture 2"
   ]
  },
  {
   "cell_type": "code",
   "execution_count": 32,
   "metadata": {},
   "outputs": [],
   "source": [
    "mdl = AbstractModel()"
   ]
  },
  {
   "cell_type": "markdown",
   "metadata": {},
   "source": [
    "## Sets"
   ]
  },
  {
   "cell_type": "markdown",
   "metadata": {},
   "source": [
    "$O$ Oils\n",
    "\n",
    "$T$ Time periods"
   ]
  },
  {
   "cell_type": "code",
   "execution_count": 33,
   "metadata": {},
   "outputs": [],
   "source": [
    "mdl.O = Set()\n",
    "mdl.T = Set()"
   ]
  },
  {
   "cell_type": "markdown",
   "metadata": {},
   "source": [
    "## Parameters"
   ]
  },
  {
   "cell_type": "markdown",
   "metadata": {},
   "source": [
    "$h_o$ Hardness of oil o\n",
    "\n",
    "$g_{t,o}$ Purchase price of oil o in period t\n",
    "\n",
    "$p$ Unit sales price of final product\n",
    "\n",
    "$q$ Storage cost per product and period"
   ]
  },
  {
   "cell_type": "code",
   "execution_count": 34,
   "metadata": {},
   "outputs": [],
   "source": [
    "mdl.h = Param(mdl.O)\n",
    "mdl.g = Param(mdl.T, mdl.O)\n",
    "mdl.p = Param(within=NonNegativeReals)\n",
    "mdl.q = Param(within=NonNegativeReals)"
   ]
  },
  {
   "cell_type": "markdown",
   "metadata": {},
   "source": [
    "## Variables"
   ]
  },
  {
   "cell_type": "markdown",
   "metadata": {},
   "source": [
    "$b_{t,o}$ Oil o bought in period t\n",
    "\n",
    "$u_{t,o}$ Oil o used in period t\n",
    "\n",
    "$s_{t,o}$ Oil o stored in period t\n",
    "\n",
    "$f_t$ Food produced in period t\n",
    "\n",
    "$d_{t,o}$ Indicator variable for oil o in period t\n",
    "\n",
    "$b_{t,o},u_{t,o},s_{t,o}\\geq 0\\:\\forall t\\in T,\\forall o\\in O$\n",
    "\n",
    "$f_t\\geq 0\\:\\forall t\\in T$\n",
    "\n",
    "$d_{t,o}\\in\\{0,1\\}\\:\\forall t\\in T, \\forall o\\in O$"
   ]
  },
  {
   "cell_type": "code",
   "execution_count": 35,
   "metadata": {},
   "outputs": [],
   "source": [
    "mdl.b = Var(mdl.T, mdl.O, domain=NonNegativeReals)\n",
    "mdl.u = Var(mdl.T, mdl.O, domain=NonNegativeReals)\n",
    "mdl.s = Var(mdl.T, mdl.O, bounds=(0, 1000), domain=NonNegativeReals)\n",
    "mdl.f = Var(mdl.T, domain=NonNegativeReals)\n",
    "mdl.d = Var(mdl.T, mdl.O, domain=Binary)"
   ]
  },
  {
   "cell_type": "markdown",
   "metadata": {},
   "source": [
    "## Objective Function"
   ]
  },
  {
   "cell_type": "markdown",
   "metadata": {},
   "source": [
    "$\\max\\sum\\limits_{t\\in T}(p*f_t)-\\sum\\limits_{t\\in T}\\sum\\limits_{o\\in O}(g_{t,o}*b_{t,o}+q*s_{t,o})$"
   ]
  },
  {
   "cell_type": "code",
   "execution_count": 36,
   "metadata": {},
   "outputs": [],
   "source": [
    "def max_profit(mdl):\n",
    "    Revenue = sum(mdl.p * mdl.f[t] for t in mdl.T)\n",
    "    RawCost = sum(mdl.g[t, o] * mdl.b[t, o] for t in mdl.T for o in mdl.O)\n",
    "    StorageCost = sum(mdl.q * mdl.s[t, o] for t in mdl.T for o in mdl.O)\n",
    "    return Revenue - RawCost - StorageCost\n",
    "\n",
    "mdl.OBJ = Objective(rule=max_profit, sense=maximize)"
   ]
  },
  {
   "cell_type": "markdown",
   "metadata": {},
   "source": [
    "## Constraints"
   ]
  },
  {
   "cell_type": "markdown",
   "metadata": {},
   "source": [
    "**balance**\n",
    "\n",
    "$\\sum\\limits_{o\\in O}u_{t,o}=f_t\\:\\forall t\\in T$\n",
    "\n",
    "$500+b_{t_0,o}=u_{t_0}+s_{t_0,o}\\:\\forall o\\in O$\n",
    "\n",
    "$s_{t-1,o}+b_{t,o}=u_{t,o}+s_{t,o}\\:\\forall t\\in T\\setminus{t_0}, \\forall o\\in O$\n",
    "\n",
    "$s_{t_e,o}=500\\:\\forall o\\in O$\n",
    "\n",
    "**production**\n",
    "\n",
    "$\\sum\\limits_{o\\in V}u_{t,o}\\leq 200\\:\\forall t\\in T$\n",
    "\n",
    "$\\sum\\limits_{o\\in N}u_{t,o}\\leq 250\\:\\forall t\\in T$\n",
    "\n",
    "**quality**\n",
    "\n",
    "$3*f_t\\leq\\sum\\limits_{o\\in O}h_o*u_{t,o}\\leq 6*f_t$\n",
    "\n",
    "**logical**\n",
    "\n",
    "$u_{t,o}-20*d_{t,o}\\geq 0\\:\\forall t\\in T, \\forall o\\in O$\n",
    "\n",
    "$u_{t,o}-200*d_{t,o}\\leq 0\\:\\forall t\\in T, \\forall o\\in V$\n",
    "\n",
    "$u_{t,o}-250*d_{t,o}\\leq 0\\:\\forall t\\in T, \\forall o\\in N$\n",
    "\n",
    "$\\sum\\limits_{o\\in O}d_{t,o}\\leq 3\\:\\forall t\\in T$\n",
    "\n",
    "$d_{t,o_0}-d_{t,o_1}-2*d_{t,o_4}\\leq 0\\:\\forall t\\in T$"
   ]
  },
  {
   "cell_type": "code",
   "execution_count": 37,
   "metadata": {},
   "outputs": [],
   "source": [
    "def material_balance_expr(mdl, t):\n",
    "    return sum(mdl.u[t, o] for o in mdl.O) == mdl.f[t]\n",
    "\n",
    "mdl.material_balance_con = Constraint(mdl.T, rule=material_balance_expr)\n",
    "\n",
    "def initial_balance_expr(mdl, o):\n",
    "    return 500 + mdl.b[1, o] == mdl.u[1, o] + mdl.s[1, o]\n",
    "\n",
    "mdl.initial_balance_con = Constraint(mdl.O, rule=initial_balance_expr)\n",
    "\n",
    "def flow_balance_expr(mdl, t, o):\n",
    "    if t >= 2:\n",
    "        return mdl.s[t-1, o] + mdl.b[t, o] == mdl.u[t, o] + mdl.s[t, o]\n",
    "    return Constraint.Skip\n",
    "\n",
    "mdl.flow_balance_con = Constraint(mdl.T, mdl.O, rule=flow_balance_expr)\n",
    "\n",
    "def end_balance_expr(mdl, o):\n",
    "    return mdl.s[6, o] == 500\n",
    "\n",
    "mdl.end_balance_con = Constraint(mdl.O, rule=end_balance_expr)\n",
    "\n",
    "def veg_ub_expr(mdl, t):\n",
    "    return sum(mdl.u[t, o] for o in mdl.O if 'VEG' in o) <= 200\n",
    "\n",
    "mdl.veg_ub_con = Constraint(mdl.T, rule=veg_ub_expr)\n",
    "\n",
    "def nonveg_ub_expr(mdl, t):\n",
    "    return sum(mdl.u[t, o] for o in mdl.O if 'OIL' in o) <= 250\n",
    "\n",
    "mdl.nonveg_ub_con = Constraint(mdl.T, rule=nonveg_ub_expr)\n",
    "\n",
    "def hardness_lb_expr(mdl, t):\n",
    "    return sum(mdl.h[o] * mdl.u[t,o] for o in mdl.O) >= 3 * mdl.f[t]\n",
    "\n",
    "mdl.hardness_lb_con = Constraint(mdl.T, rule=hardness_lb_expr)\n",
    "\n",
    "def hardness_ub_expr(mdl, t):\n",
    "    return sum(mdl.h[o] * mdl.u[t,o] for o in mdl.O) <= 6 * mdl.f[t]\n",
    "\n",
    "mdl.hardness_ub_con = Constraint(mdl.T, rule=hardness_ub_expr)\n",
    "\n",
    "def cond1_lb_expr(mdl, t, o):\n",
    "    return mdl.u[t, o] - 20 * mdl.d[t, o] >= 0\n",
    "\n",
    "mdl.cond1_lb_con = Constraint(mdl.T, mdl.O, rule=cond1_lb_expr)\n",
    "\n",
    "def cond1_ub_expr(mdl, t, o):\n",
    "    if o in ['VEG1', 'VEG2']:\n",
    "        return mdl.u[t, o] - 200 * mdl.d[t, o] <= 0\n",
    "    elif o in ['OIL1', 'OIL2', 'OIL3']:\n",
    "        return mdl.u[t, o] - 250 * mdl.d[t, o] <= 0\n",
    "    return Constraint.Skip\n",
    "\n",
    "mdl.cond1_ub_con = Constraint(mdl.T, mdl.O, rule=cond1_ub_expr)\n",
    "\n",
    "def cond2_expr(mdl, t):\n",
    "    return sum(mdl.d[t, o] for o in mdl.O) <= 3\n",
    "\n",
    "mdl.cond2_con = Constraint(mdl.T, rule=cond2_expr)\n",
    "\n",
    "def cond3_expr(mdl, t):\n",
    "    return mdl.d[t, 'VEG1'] + mdl.d[t, 'VEG2'] - 2 * mdl.d[t, 'OIL3'] <= 0\n",
    "\n",
    "mdl.cond3_con = Constraint(mdl.T, rule=cond3_expr)"
   ]
  },
  {
   "cell_type": "markdown",
   "metadata": {},
   "source": [
    "## Solve"
   ]
  },
  {
   "cell_type": "code",
   "execution_count": 38,
   "metadata": {},
   "outputs": [],
   "source": [
    "data = {None: {\n",
    "    'O': {None: ['VEG1', 'VEG2', 'OIL1', 'OIL2', 'OIL3']},\n",
    "    'T': {None: [1, 2, 3, 4, 5, 6]},\n",
    "    'h': {'VEG1': 8.8, 'VEG2': 6.1, 'OIL1': 2, 'OIL2': 4.2, 'OIL3': 5},\n",
    "    'g': {(1,'VEG1'): 110, (2,'VEG1'): 130, (3,'VEG1'): 110, (4,'VEG1'): 120, (5,'VEG1'): 100, (6,'VEG1'): 90,\n",
    "          (1,'VEG2'): 120, (2,'VEG2'): 130, (3,'VEG2'): 140, (4,'VEG2'): 110, (5,'VEG2'): 120, (6,'VEG2'): 100,\n",
    "          (1,'OIL1'): 130, (2,'OIL1'): 110, (3,'OIL1'): 130, (4,'OIL1'): 120, (5,'OIL1'): 150, (6,'OIL1'): 140,\n",
    "          (1,'OIL2'): 110, (2,'OIL2'): 90, (3,'OIL2'): 100, (4,'OIL2'): 120, (5,'OIL2'): 110, (6,'OIL2'): 80,\n",
    "          (1,'OIL3'): 115, (2,'OIL3'): 115, (3,'OIL3'): 95, (4,'OIL3'): 125, (5,'OIL3'): 105, (6,'OIL3'): 135},\n",
    "    'p': {None: 150},\n",
    "    'q': {None: 5}\n",
    "}}"
   ]
  },
  {
   "cell_type": "code",
   "execution_count": 39,
   "metadata": {
    "scrolled": false
   },
   "outputs": [
    {
     "name": "stdout",
     "output_type": "stream",
     "text": [
      "GLPSOL: GLPK LP/MIP Solver, v4.65\n",
      "Parameter(s) specified in the command line:\n",
      " --write /tmp/tmpcgzri4o4.glpk.raw --wglp /tmp/tmp8tvfj7jh.glpk.glp --cpxlp\n",
      " /tmp/tmpbk65c_eg.pyomo.lp\n",
      "Reading problem data from '/tmp/tmpbk65c_eg.pyomo.lp'...\n",
      "/tmp/tmpbk65c_eg.pyomo.lp:1042: warning: lower bound of variable 'x97' redefined\n",
      "/tmp/tmpbk65c_eg.pyomo.lp:1042: warning: upper bound of variable 'x97' redefined\n",
      "138 rows, 127 columns, 427 non-zeros\n",
      "30 integer variables, all of which are binary\n",
      "1072 lines were read\n",
      "Writing problem data to '/tmp/tmp8tvfj7jh.glpk.glp'...\n",
      "965 lines were written\n",
      "GLPK Integer Optimizer, v4.65\n",
      "138 rows, 127 columns, 427 non-zeros\n",
      "30 integer variables, all of which are binary\n",
      "Preprocessing...\n",
      "132 rows, 91 columns, 386 non-zeros\n",
      "30 integer variables, all of which are binary\n",
      "Scaling...\n",
      " A: min|aij| =  1.000e+00  max|aij| =  2.500e+02  ratio =  2.500e+02\n",
      "GM: min|aij| =  5.318e-01  max|aij| =  1.880e+00  ratio =  3.536e+00\n",
      "EQ: min|aij| =  2.828e-01  max|aij| =  1.000e+00  ratio =  3.536e+00\n",
      "2N: min|aij| =  1.562e-01  max|aij| =  1.562e+00  ratio =  1.000e+01\n",
      "Constructing initial basis...\n",
      "Size of triangular part is 132\n",
      "Solving LP relaxation...\n",
      "GLPK Simplex Optimizer, v4.65\n",
      "132 rows, 91 columns, 386 non-zeros\n",
      "      0: obj =  -2.250000000e+03 inf =   3.750e+02 (12)\n",
      "     61: obj =   3.027272727e+04 inf =   7.579e-17 (0)\n",
      "*    87: obj =   1.075129630e+05 inf =   0.000e+00 (0)\n",
      "OPTIMAL LP SOLUTION FOUND\n",
      "Integer optimization begins...\n",
      "Long-step dual simplex will be used\n",
      "+    87: mip =     not found yet <=              +inf        (1; 0)\n",
      "+   151: >>>>>   9.711666667e+04 <=   1.056500000e+05   8.8% (22; 0)\n",
      "+   217: >>>>>   9.812407407e+04 <=   1.049500000e+05   7.0% (27; 9)\n",
      "+   329: >>>>>   9.917222222e+04 <=   1.048100000e+05   5.7% (41; 15)\n",
      "+   418: >>>>>   9.987222222e+04 <=   1.045045455e+05   4.6% (50; 28)\n",
      "+  1036: >>>>>   1.001916667e+05 <=   1.033611111e+05   3.2% (119; 76)\n",
      "+  1155: >>>>>   1.002787037e+05 <=   1.031750000e+05   2.9% (117; 103)\n",
      "+  3801: mip =   1.002787037e+05 <=     tree is empty   0.0% (0; 1005)\n",
      "INTEGER OPTIMAL SOLUTION FOUND\n",
      "Time used:   0.2 secs\n",
      "Memory used: 0.5 Mb (530607 bytes)\n",
      "Writing MIP solution to '/tmp/tmpcgzri4o4.glpk.raw'...\n",
      "274 lines were written\n"
     ]
    }
   ],
   "source": [
    "instance = mdl.create_instance(data)\n",
    "opt = SolverFactory('glpk')\n",
    "foodManufacture1_results = opt.solve(instance, tee=True)"
   ]
  },
  {
   "cell_type": "markdown",
   "metadata": {},
   "source": [
    "## Result"
   ]
  },
  {
   "cell_type": "markdown",
   "metadata": {},
   "source": [
    "Variables"
   ]
  },
  {
   "cell_type": "code",
   "execution_count": 40,
   "metadata": {},
   "outputs": [
    {
     "name": "stdout",
     "output_type": "stream",
     "text": [
      "b\n",
      "  (1, 'VEG1') 0.0\n",
      "  (1, 'VEG2') 0.0\n",
      "  (1, 'OIL1') 0.0\n",
      "  (1, 'OIL2') 0.0\n",
      "  (1, 'OIL3') 0.0\n",
      "  (2, 'VEG1') -2.8421709430404e-14\n",
      "  (2, 'VEG2') 0.0\n",
      "  (2, 'OIL1') 0.0\n",
      "  (2, 'OIL2') 0.0\n",
      "  (2, 'OIL3') 0.0\n",
      "  (3, 'VEG1') 5.6843418860808e-14\n",
      "  (3, 'VEG2') 0.0\n",
      "  (3, 'OIL1') 0.0\n",
      "  (3, 'OIL2') 0.0\n",
      "  (3, 'OIL3') 770.0\n",
      "  (4, 'VEG1') -2.8421709430404e-14\n",
      "  (4, 'VEG2') 0.0\n",
      "  (4, 'OIL1') 0.0\n",
      "  (4, 'OIL2') 0.0\n",
      "  (4, 'OIL3') 0.0\n",
      "  (5, 'VEG1') 0.0\n",
      "  (5, 'VEG2') 0.0\n",
      "  (5, 'OIL1') 0.0\n",
      "  (5, 'OIL2') 0.0\n",
      "  (5, 'OIL3') 0.0\n",
      "  (6, 'VEG1') 480.37037037037\n",
      "  (6, 'VEG2') 629.62962962963\n",
      "  (6, 'OIL1') 0.0\n",
      "  (6, 'OIL2') 730.0\n",
      "  (6, 'OIL3') 0.0\n",
      "u\n",
      "  (1, 'VEG1') 0.0\n",
      "  (1, 'VEG2') 200.0\n",
      "  (1, 'OIL1') 0.0\n",
      "  (1, 'OIL2') 40.0\n",
      "  (1, 'OIL3') 210.0\n",
      "  (2, 'VEG1') 85.1851851851852\n",
      "  (2, 'VEG2') 114.814814814815\n",
      "  (2, 'OIL1') 0.0\n",
      "  (2, 'OIL2') 0.0\n",
      "  (2, 'OIL3') 250.0\n",
      "  (3, 'VEG1') 85.1851851851852\n",
      "  (3, 'VEG2') 114.814814814815\n",
      "  (3, 'OIL1') 0.0\n",
      "  (3, 'OIL2') 0.0\n",
      "  (3, 'OIL3') 250.0\n",
      "  (4, 'VEG1') 155.0\n",
      "  (4, 'VEG2') 0.0\n",
      "  (4, 'OIL1') 0.0\n",
      "  (4, 'OIL2') 230.0\n",
      "  (4, 'OIL3') 20.0\n",
      "  (5, 'VEG1') 155.0\n",
      "  (5, 'VEG2') 0.0\n",
      "  (5, 'OIL1') 0.0\n",
      "  (5, 'OIL2') 230.0\n",
      "  (5, 'OIL3') 20.0\n",
      "  (6, 'VEG1') 0.0\n",
      "  (6, 'VEG2') 200.0\n",
      "  (6, 'OIL1') 0.0\n",
      "  (6, 'OIL2') 230.0\n",
      "  (6, 'OIL3') 20.0\n",
      "s\n",
      "  (1, 'VEG1') 500.0\n",
      "  (1, 'VEG2') 300.0\n",
      "  (1, 'OIL1') 500.0\n",
      "  (1, 'OIL2') 460.0\n",
      "  (1, 'OIL3') 290.0\n",
      "  (2, 'VEG1') 414.814814814815\n",
      "  (2, 'VEG2') 185.185185185185\n",
      "  (2, 'OIL1') 500.0\n",
      "  (2, 'OIL2') 460.0\n",
      "  (2, 'OIL3') 40.0\n",
      "  (3, 'VEG1') 329.62962962963\n",
      "  (3, 'VEG2') 70.3703703703704\n",
      "  (3, 'OIL1') 500.0\n",
      "  (3, 'OIL2') 460.0\n",
      "  (3, 'OIL3') 560.0\n",
      "  (4, 'VEG1') 174.62962962963\n",
      "  (4, 'VEG2') 70.3703703703704\n",
      "  (4, 'OIL1') 500.0\n",
      "  (4, 'OIL2') 230.0\n",
      "  (4, 'OIL3') 540.0\n",
      "  (5, 'VEG1') 19.6296296296297\n",
      "  (5, 'VEG2') 70.3703703703704\n",
      "  (5, 'OIL1') 500.0\n",
      "  (5, 'OIL2') 0.0\n",
      "  (5, 'OIL3') 520.0\n",
      "  (6, 'VEG1') 500.0\n",
      "  (6, 'VEG2') 500.0\n",
      "  (6, 'OIL1') 500.0\n",
      "  (6, 'OIL2') 500.0\n",
      "  (6, 'OIL3') 500.0\n",
      "f\n",
      "  1 450.0\n",
      "  2 450.0\n",
      "  3 450.0\n",
      "  4 405.0\n",
      "  5 405.0\n",
      "  6 450.0\n",
      "d\n",
      "  (1, 'VEG1') 0.0\n",
      "  (1, 'VEG2') 1.0\n",
      "  (1, 'OIL1') 0.0\n",
      "  (1, 'OIL2') 1.0\n",
      "  (1, 'OIL3') 1.0\n",
      "  (2, 'VEG1') 1.0\n",
      "  (2, 'VEG2') 1.0\n",
      "  (2, 'OIL1') 0.0\n",
      "  (2, 'OIL2') 0.0\n",
      "  (2, 'OIL3') 1.0\n",
      "  (3, 'VEG1') 1.0\n",
      "  (3, 'VEG2') 1.0\n",
      "  (3, 'OIL1') 0.0\n",
      "  (3, 'OIL2') 0.0\n",
      "  (3, 'OIL3') 1.0\n",
      "  (4, 'VEG1') 1.0\n",
      "  (4, 'VEG2') 0.0\n",
      "  (4, 'OIL1') 0.0\n",
      "  (4, 'OIL2') 1.0\n",
      "  (4, 'OIL3') 1.0\n",
      "  (5, 'VEG1') 1.0\n",
      "  (5, 'VEG2') 0.0\n",
      "  (5, 'OIL1') 0.0\n",
      "  (5, 'OIL2') 1.0\n",
      "  (5, 'OIL3') 1.0\n",
      "  (6, 'VEG1') 0.0\n",
      "  (6, 'VEG2') 1.0\n",
      "  (6, 'OIL1') 0.0\n",
      "  (6, 'OIL2') 1.0\n",
      "  (6, 'OIL3') 1.0\n"
     ]
    }
   ],
   "source": [
    "for v in instance.component_objects(Var, active=True):\n",
    "    print(v)\n",
    "    for index in v:\n",
    "        print(' ', index, value(v[index]))"
   ]
  },
  {
   "cell_type": "markdown",
   "metadata": {},
   "source": [
    "Parameters"
   ]
  },
  {
   "cell_type": "code",
   "execution_count": 41,
   "metadata": {},
   "outputs": [
    {
     "name": "stdout",
     "output_type": "stream",
     "text": [
      "h\n",
      "  VEG1 8.8\n",
      "  VEG2 6.1\n",
      "  OIL1 2\n",
      "  OIL2 4.2\n",
      "  OIL3 5\n",
      "g\n",
      "  (1, 'VEG1') 110\n",
      "  (2, 'VEG1') 130\n",
      "  (3, 'VEG1') 110\n",
      "  (4, 'VEG1') 120\n",
      "  (5, 'VEG1') 100\n",
      "  (6, 'VEG1') 90\n",
      "  (1, 'VEG2') 120\n",
      "  (2, 'VEG2') 130\n",
      "  (3, 'VEG2') 140\n",
      "  (4, 'VEG2') 110\n",
      "  (5, 'VEG2') 120\n",
      "  (6, 'VEG2') 100\n",
      "  (1, 'OIL1') 130\n",
      "  (2, 'OIL1') 110\n",
      "  (3, 'OIL1') 130\n",
      "  (4, 'OIL1') 120\n",
      "  (5, 'OIL1') 150\n",
      "  (6, 'OIL1') 140\n",
      "  (1, 'OIL2') 110\n",
      "  (2, 'OIL2') 90\n",
      "  (3, 'OIL2') 100\n",
      "  (4, 'OIL2') 120\n",
      "  (5, 'OIL2') 110\n",
      "  (6, 'OIL2') 80\n",
      "  (1, 'OIL3') 115\n",
      "  (2, 'OIL3') 115\n",
      "  (3, 'OIL3') 95\n",
      "  (4, 'OIL3') 125\n",
      "  (5, 'OIL3') 105\n",
      "  (6, 'OIL3') 135\n",
      "p\n",
      "  None p\n",
      "q\n",
      "  None q\n"
     ]
    }
   ],
   "source": [
    "for p in instance.component_objects(Param, active=True):\n",
    "    print(p.name)\n",
    "    for index in p:\n",
    "        print(' ', index,p[index])"
   ]
  },
  {
   "cell_type": "markdown",
   "metadata": {},
   "source": [
    "# Factory Planning 1"
   ]
  },
  {
   "cell_type": "code",
   "execution_count": 52,
   "metadata": {},
   "outputs": [],
   "source": [
    "mdl = AbstractModel()"
   ]
  },
  {
   "cell_type": "markdown",
   "metadata": {},
   "source": [
    "## Sets"
   ]
  },
  {
   "cell_type": "markdown",
   "metadata": {},
   "source": [
    "$T$ Time periods\n",
    "\n",
    "$P$ Products\n",
    "\n",
    "$M$ Machines"
   ]
  },
  {
   "cell_type": "code",
   "execution_count": 53,
   "metadata": {},
   "outputs": [],
   "source": [
    "mdl.T = Set()\n",
    "mdl.P = Set()\n",
    "mdl.M = Set()"
   ]
  },
  {
   "cell_type": "markdown",
   "metadata": {},
   "source": [
    "## Parameters"
   ]
  },
  {
   "cell_type": "markdown",
   "metadata": {},
   "source": [
    "$f_{p,m}$ Time used to manufacture product p on machine m (in hours)\n",
    "\n",
    "$l_{t,p}$ Upper sales limit on product p in period t\n",
    "\n",
    "$k_{p}$ Profit for product p\n",
    "\n",
    "$q_{t,m}$ Number of broken machines m in period t\n",
    "\n",
    "$c_{m}$ Number of machines\n",
    "\n",
    "$g$ Hours each machine can work\n",
    "\n",
    "$z$ Maximum stock of each product in last period\n",
    "\n",
    "$r$ Storage cost per product per month"
   ]
  },
  {
   "cell_type": "code",
   "execution_count": 54,
   "metadata": {},
   "outputs": [],
   "source": [
    "mdl.f = Param(mdl.P, mdl.M)\n",
    "mdl.l = Param(mdl.T, mdl.P)\n",
    "mdl.k = Param(mdl.P)\n",
    "mdl.q = Param(mdl.T, mdl.M)\n",
    "mdl.c = Param(mdl.M)\n",
    "mdl.g = Param(within=NonNegativeReals)\n",
    "mdl.z = Param(within=NonNegativeReals)\n",
    "mdl.r = Param(within=NonNegativeReals)"
   ]
  },
  {
   "cell_type": "markdown",
   "metadata": {},
   "source": [
    "## Variables"
   ]
  },
  {
   "cell_type": "markdown",
   "metadata": {},
   "source": [
    "$b_{t,p}$ Amount of product p produced in period t\n",
    "\n",
    "$u_{t,p}$ Amount of product p sold in period t\n",
    "\n",
    "$s_{t,p}$ Amount of product p sold in period t\n",
    "\n",
    "$b_{t,p},u_{t,p},s_{t,p}\\geq 0\\:\\forall t\\in T, \\forall p\\in P$"
   ]
  },
  {
   "cell_type": "code",
   "execution_count": 55,
   "metadata": {},
   "outputs": [],
   "source": [
    "mdl.b = Var(mdl.T, mdl.P, domain=NonNegativeReals)\n",
    "mdl.u = Var(mdl.T, mdl.P, domain=NonNegativeReals)\n",
    "mdl.s = Var(mdl.T, mdl.P, bounds=(0, 100), domain=NonNegativeReals)"
   ]
  },
  {
   "cell_type": "markdown",
   "metadata": {},
   "source": [
    "## Objective Function"
   ]
  },
  {
   "cell_type": "markdown",
   "metadata": {},
   "source": [
    "$\\max\\sum\\limits_{t\\in T}\\sum\\limits_{p\\in P}k_p*u_{t,p}-r*s_{t,p}$"
   ]
  },
  {
   "cell_type": "code",
   "execution_count": 56,
   "metadata": {},
   "outputs": [],
   "source": [
    "def max_profit(mdl):\n",
    "    return sum(mdl.k[p] * mdl.u[t, p] - mdl.r * mdl.s[t, p] for t in mdl.T for p in mdl.P)\n",
    "\n",
    "mdl.OBJ = Objective(rule=max_profit, sense=maximize)"
   ]
  },
  {
   "cell_type": "markdown",
   "metadata": {},
   "source": [
    "## Constraints"
   ]
  },
  {
   "cell_type": "markdown",
   "metadata": {},
   "source": [
    "**Balance**\n",
    "\n",
    "$b_{t_0,p}=u_{t_0,p}+s_{t_0,p}\\:\\forall p\\in P$\n",
    "\n",
    "$s_{t-1,p}+b_{t,p}=u_{t,p}+s_{t,p}\\:\\forall t\\in T \\setminus{t_0}, \\forall p\\in P$\n",
    "\n",
    "$s_{t_e}=z\\:\\forall p\\in P$\n",
    "\n",
    "**Sales**\n",
    "\n",
    "$u_{t,p}\\leq l_{t,p}\\:\\forall t\\in T, \\forall p\\in P$\n",
    "\n",
    "**Machine**\n",
    "\n",
    "$\\sum\\limits_{p\\in P}f_{p,m}*b_{t,p}\\leq g*(c_{m}-q_{t,m})\\:\\forall t\\in T, \\forall m\\in M$"
   ]
  },
  {
   "cell_type": "code",
   "execution_count": 57,
   "metadata": {},
   "outputs": [],
   "source": [
    "def initial_balance_expr(mdl, p):\n",
    "    return mdl.b[1, p] == mdl.u[1, p] + mdl.s[1, p]\n",
    "\n",
    "mdl.initial_balance_con = Constraint(mdl.P, rule=initial_balance_expr)\n",
    "\n",
    "def balance_expr(mdl, t, p):\n",
    "    if t >= 2:\n",
    "        return mdl.s[t-1, p] + mdl.b[t, p] == mdl.u[t, p] + mdl.s[t, p]\n",
    "    return Constraint.Skip\n",
    "\n",
    "mdl.balance_con = Constraint(mdl.T, mdl.P, rule=balance_expr)\n",
    "\n",
    "def end_balance_expr(mdl, p):\n",
    "    return mdl.s[6, p] == mdl.z\n",
    "\n",
    "mdl.end_balance = Constraint(mdl.P, rule=end_balance_expr)\n",
    "\n",
    "def sales_ub_expr(mdl, t, p):\n",
    "    return mdl.u[t, p] <= mdl.l[t, p]\n",
    "\n",
    "mdl.sales_ub_con = Constraint(mdl.T, mdl.P, rule=sales_ub_expr)\n",
    "\n",
    "def machine_availability_expr(mdl, t, m):\n",
    "        return sum(mdl.f[p, m] * mdl.b[t, p] for p in mdl.P) <= mdl.g * (mdl.c[m] - mdl.q[t, m])\n",
    "\n",
    "mdl.machine_availability_con = Constraint(mdl.T, mdl.M, rule=machine_availability_expr)"
   ]
  },
  {
   "cell_type": "markdown",
   "metadata": {},
   "source": [
    "## Solve"
   ]
  },
  {
   "cell_type": "code",
   "execution_count": 69,
   "metadata": {},
   "outputs": [],
   "source": [
    "n_shifts = 2\n",
    "n_work_hours = 8\n",
    "n_work_days = 6*4\n",
    "g = n_shifts * n_work_hours * n_work_days\n",
    "\n",
    "data = {None: {\n",
    "    'T': {None: [1, 2, 3, 4, 5, 6]},\n",
    "    'P': {None: ['P1', 'P2', 'P3', 'P4', 'P5', 'P6', 'P7']},\n",
    "    'M': {None: ['GRINDING', 'VDRILL', 'HDRILL', 'BORING', 'PLANING']},\n",
    "    'f': {('P1','GRINDING'): 0.5, ('P1','VDRILL'): 0.1, ('P1','HDRILL'): 0.2, ('P1','BORING'): 0.05, ('P1','PLANING'): 0, \n",
    "          ('P2','GRINDING'): 0.7, ('P2','VDRILL'): 0.2, ('P2','HDRILL'): 0, ('P2','BORING'): 0.03, ('P2','PLANING'): 0, \n",
    "          ('P3','GRINDING'): 0, ('P3','VDRILL'): 0, ('P3','HDRILL'): 0.8, ('P3','BORING'): 0, ('P3','PLANING'): 0.01,\n",
    "          ('P4','GRINDING'): 0, ('P4','VDRILL'): 0.3, ('P4','HDRILL'): 0, ('P4','BORING'): 0.07, ('P4','PLANING'): 0, \n",
    "          ('P5','GRINDING'): 0.3, ('P5','VDRILL'): 0, ('P5','HDRILL'): 0, ('P5','BORING'): 0.1, ('P5','PLANING'): 0.05, \n",
    "          ('P6','GRINDING'): 0.2, ('P6','VDRILL'): 0.6, ('P6','HDRILL'): 0, ('P6','BORING'): 0, ('P6','PLANING'): 0, \n",
    "          ('P7','GRINDING'): 0.5, ('P7','VDRILL'): 0, ('P7','HDRILL'): 0.6, ('P7','BORING'): 0.08, ('P7','PLANING'): 0.05},\n",
    "    'l': {(1,'P1'): 500, (1,'P2'): 1000, (1,'P3'): 300, (1,'P4'): 300, (1,'P5'): 800, (1,'P6'): 200, (1,'P7'): 100, \n",
    "          (2,'P1'): 600, (2,'P2'): 500, (2,'P3'): 200, (2,'P4'): 0, (2,'P5'): 400, (2,'P6'): 300, (2,'P7'): 150,\n",
    "          (3,'P1'): 300, (3,'P2'): 600, (3,'P3'): 0, (3,'P4'): 0, (3,'P5'): 500, (3,'P6'): 400, (3,'P7'): 100,\n",
    "          (4,'P1'): 200, (4,'P2'): 300, (4,'P3'): 400, (4,'P4'): 500, (4,'P5'): 200, (4,'P6'): 0, (4,'P7'): 100,\n",
    "          (5,'P1'): 0, (5,'P2'): 100, (5,'P3'): 500, (5,'P4'): 100, (5,'P5'): 1000, (5,'P6'): 300, (5,'P7'): 0,\n",
    "          (6,'P1'): 500, (6,'P2'): 500, (6,'P3'): 100, (6,'P4'): 300, (6,'P5'): 1100, (6,'P6'): 500, (6,'P7'): 60},\n",
    "    'k': {'P1': 10, 'P2': 6, 'P3': 8, 'P4': 4, 'P5': 11, 'P6': 9, 'P7': 3},\n",
    "    'q': {(1,'GRINDING'): 1, (1,'VDRILL'): 0, (1,'HDRILL'): 0, (1,'BORING'): 0, (1,'PLANING'): 0,\n",
    "          (2,'GRINDING'): 0, (2,'VDRILL'): 0, (2,'HDRILL'): 2, (2,'BORING'): 0, (2,'PLANING'): 0,\n",
    "          (3,'GRINDING'): 0, (3,'VDRILL'): 0, (3,'HDRILL'): 0, (3,'BORING'): 1, (3,'PLANING'): 0,\n",
    "          (4,'GRINDING'): 0, (4,'VDRILL'): 1, (4,'HDRILL'): 0, (4,'BORING'): 0, (4,'PLANING'): 0,\n",
    "          (5,'GRINDING'): 1, (5,'VDRILL'): 1, (5,'HDRILL'): 0, (5,'BORING'): 0, (5,'PLANING'): 0,\n",
    "          (6,'GRINDING'): 0, (6,'VDRILL'): 0, (6,'HDRILL'): 1, (6,'BORING'): 0, (6,'PLANING'): 1},\n",
    "    'c': {'GRINDING': 4, 'VDRILL': 2, 'HDRILL': 3, 'BORING': 1, 'PLANING': 1},\n",
    "    'g': {None: g},\n",
    "    'z': {None: 50},\n",
    "    'r': {None: 0.5}\n",
    "}}"
   ]
  },
  {
   "cell_type": "code",
   "execution_count": 70,
   "metadata": {},
   "outputs": [
    {
     "name": "stdout",
     "output_type": "stream",
     "text": [
      "GLPSOL: GLPK LP/MIP Solver, v4.65\n",
      "Parameter(s) specified in the command line:\n",
      " --write /tmp/tmp7mr7f6iw.glpk.raw --wglp /tmp/tmpp2qz2p11.glpk.glp --cpxlp\n",
      " /tmp/tmp1yjnixf8.pyomo.lp\n",
      "Reading problem data from '/tmp/tmp1yjnixf8.pyomo.lp'...\n",
      "122 rows, 127 columns, 331 non-zeros\n",
      "915 lines were read\n",
      "Writing problem data to '/tmp/tmpp2qz2p11.glpk.glp'...\n",
      "789 lines were written\n",
      "GLPK Simplex Optimizer, v4.65\n",
      "122 rows, 127 columns, 331 non-zeros\n",
      "Preprocessing...\n",
      "62 rows, 67 columns, 189 non-zeros\n",
      "Scaling...\n",
      " A: min|aij| =  1.000e-02  max|aij| =  1.000e+00  ratio =  1.000e+02\n",
      "GM: min|aij| =  5.081e-01  max|aij| =  1.968e+00  ratio =  3.873e+00\n",
      "EQ: min|aij| =  2.582e-01  max|aij| =  1.000e+00  ratio =  3.873e+00\n",
      "Constructing initial basis...\n",
      "Size of triangular part is 62\n",
      "      0: obj =  -2.775000000e+03 inf =   3.968e+02 (7)\n",
      "     21: obj =  -3.750000000e+02 inf =   0.000e+00 (0)\n",
      "*    79: obj =   9.371517857e+04 inf =   0.000e+00 (0)\n",
      "OPTIMAL LP SOLUTION FOUND\n",
      "Time used:   0.0 secs\n",
      "Memory used: 0.1 Mb (156089 bytes)\n",
      "Writing basic solution to '/tmp/tmp7mr7f6iw.glpk.raw'...\n",
      "258 lines were written\n"
     ]
    }
   ],
   "source": [
    "instance = mdl.create_instance(data)\n",
    "opt = SolverFactory('glpk')\n",
    "factoryPlanning1_results = opt.solve(instance, tee=True)"
   ]
  },
  {
   "cell_type": "markdown",
   "metadata": {},
   "source": [
    "## Result"
   ]
  },
  {
   "cell_type": "markdown",
   "metadata": {},
   "source": [
    "Variables"
   ]
  },
  {
   "cell_type": "code",
   "execution_count": 71,
   "metadata": {},
   "outputs": [
    {
     "name": "stdout",
     "output_type": "stream",
     "text": [
      "b\n",
      "  (1, 'P1') 500.0\n",
      "  (1, 'P2') 888.571428571428\n",
      "  (1, 'P3') 382.5\n",
      "  (1, 'P4') 300.0\n",
      "  (1, 'P5') 800.0\n",
      "  (1, 'P6') 200.0\n",
      "  (1, 'P7') 0.0\n",
      "  (2, 'P1') 700.0\n",
      "  (2, 'P2') 600.0\n",
      "  (2, 'P3') 117.5\n",
      "  (2, 'P4') 0.0\n",
      "  (2, 'P5') 500.0\n",
      "  (2, 'P6') 300.0\n",
      "  (2, 'P7') 250.0\n",
      "  (3, 'P1') 0.0\n",
      "  (3, 'P2') 0.0\n",
      "  (3, 'P3') 0.0\n",
      "  (3, 'P4') 0.0\n",
      "  (3, 'P5') 0.0\n",
      "  (3, 'P6') 400.0\n",
      "  (3, 'P7') 0.0\n",
      "  (4, 'P1') 200.0\n",
      "  (4, 'P2') 300.0\n",
      "  (4, 'P3') 400.0\n",
      "  (4, 'P4') 500.0\n",
      "  (4, 'P5') 200.0\n",
      "  (4, 'P6') 0.0\n",
      "  (4, 'P7') 100.0\n",
      "  (5, 'P1') 0.0\n",
      "  (5, 'P2') 99.9999999999999\n",
      "  (5, 'P3') 600.0\n",
      "  (5, 'P4') 100.0\n",
      "  (5, 'P5') 1100.0\n",
      "  (5, 'P6') 300.0\n",
      "  (5, 'P7') 100.0\n",
      "  (6, 'P1') 550.0\n",
      "  (6, 'P2') 550.0\n",
      "  (6, 'P3') 0.0\n",
      "  (6, 'P4') 350.0\n",
      "  (6, 'P5') 0.0\n",
      "  (6, 'P6') 550.0\n",
      "  (6, 'P7') 0.0\n",
      "u\n",
      "  (1, 'P1') 500.0\n",
      "  (1, 'P2') 888.571428571428\n",
      "  (1, 'P3') 300.0\n",
      "  (1, 'P4') 300.0\n",
      "  (1, 'P5') 800.0\n",
      "  (1, 'P6') 200.0\n",
      "  (1, 'P7') -0.0\n",
      "  (2, 'P1') 600.0\n",
      "  (2, 'P2') 500.0\n",
      "  (2, 'P3') 200.0\n",
      "  (2, 'P4') 0.0\n",
      "  (2, 'P5') 400.0\n",
      "  (2, 'P6') 300.0\n",
      "  (2, 'P7') 150.0\n",
      "  (3, 'P1') 100.0\n",
      "  (3, 'P2') 100.0\n",
      "  (3, 'P3') 0.0\n",
      "  (3, 'P4') 0.0\n",
      "  (3, 'P5') 100.0\n",
      "  (3, 'P6') 400.0\n",
      "  (3, 'P7') 100.0\n",
      "  (4, 'P1') 200.0\n",
      "  (4, 'P2') 300.0\n",
      "  (4, 'P3') 400.0\n",
      "  (4, 'P4') 500.0\n",
      "  (4, 'P5') 200.0\n",
      "  (4, 'P6') 0.0\n",
      "  (4, 'P7') 100.0\n",
      "  (5, 'P1') 0.0\n",
      "  (5, 'P2') 99.9999999999999\n",
      "  (5, 'P3') 500.0\n",
      "  (5, 'P4') 100.0\n",
      "  (5, 'P5') 1000.0\n",
      "  (5, 'P6') 300.0\n",
      "  (5, 'P7') 0.0\n",
      "  (6, 'P1') 500.0\n",
      "  (6, 'P2') 500.0\n",
      "  (6, 'P3') 50.0\n",
      "  (6, 'P4') 300.0\n",
      "  (6, 'P5') 50.0\n",
      "  (6, 'P6') 500.0\n",
      "  (6, 'P7') 50.0000000000001\n",
      "s\n",
      "  (1, 'P1') 0.0\n",
      "  (1, 'P2') 0.0\n",
      "  (1, 'P3') 82.5\n",
      "  (1, 'P4') 0.0\n",
      "  (1, 'P5') 0.0\n",
      "  (1, 'P6') 0.0\n",
      "  (1, 'P7') 0.0\n",
      "  (2, 'P1') 100.0\n",
      "  (2, 'P2') 100.0\n",
      "  (2, 'P3') 0.0\n",
      "  (2, 'P4') 0.0\n",
      "  (2, 'P5') 100.0\n",
      "  (2, 'P6') 0.0\n",
      "  (2, 'P7') 100.0\n",
      "  (3, 'P1') 0.0\n",
      "  (3, 'P2') 0.0\n",
      "  (3, 'P3') 0.0\n",
      "  (3, 'P4') 0.0\n",
      "  (3, 'P5') 0.0\n",
      "  (3, 'P6') 0.0\n",
      "  (3, 'P7') 0.0\n",
      "  (4, 'P1') 0.0\n",
      "  (4, 'P2') 0.0\n",
      "  (4, 'P3') 0.0\n",
      "  (4, 'P4') 0.0\n",
      "  (4, 'P5') 0.0\n",
      "  (4, 'P6') 0.0\n",
      "  (4, 'P7') 0.0\n",
      "  (5, 'P1') 0.0\n",
      "  (5, 'P2') 0.0\n",
      "  (5, 'P3') 100.0\n",
      "  (5, 'P4') 0.0\n",
      "  (5, 'P5') 100.0\n",
      "  (5, 'P6') 0.0\n",
      "  (5, 'P7') 100.0\n",
      "  (6, 'P1') 50.0\n",
      "  (6, 'P2') 50.0\n",
      "  (6, 'P3') 50.0\n",
      "  (6, 'P4') 50.0\n",
      "  (6, 'P5') 50.0\n",
      "  (6, 'P6') 50.0\n",
      "  (6, 'P7') 50.0\n"
     ]
    }
   ],
   "source": [
    "for v in instance.component_objects(Var, active=True):\n",
    "    print(v)\n",
    "    for index in v:\n",
    "        print(' ', index, value(v[index]))"
   ]
  },
  {
   "cell_type": "markdown",
   "metadata": {},
   "source": [
    "Parameter"
   ]
  },
  {
   "cell_type": "code",
   "execution_count": 72,
   "metadata": {},
   "outputs": [
    {
     "name": "stdout",
     "output_type": "stream",
     "text": [
      "f\n",
      "  ('P1', 'GRINDING') 0.5\n",
      "  ('P1', 'VDRILL') 0.1\n",
      "  ('P1', 'HDRILL') 0.2\n",
      "  ('P1', 'BORING') 0.05\n",
      "  ('P1', 'PLANING') 0\n",
      "  ('P2', 'GRINDING') 0.7\n",
      "  ('P2', 'VDRILL') 0.2\n",
      "  ('P2', 'HDRILL') 0\n",
      "  ('P2', 'BORING') 0.03\n",
      "  ('P2', 'PLANING') 0\n",
      "  ('P3', 'GRINDING') 0\n",
      "  ('P3', 'VDRILL') 0\n",
      "  ('P3', 'HDRILL') 0.8\n",
      "  ('P3', 'BORING') 0\n",
      "  ('P3', 'PLANING') 0.01\n",
      "  ('P4', 'GRINDING') 0\n",
      "  ('P4', 'VDRILL') 0.3\n",
      "  ('P4', 'HDRILL') 0\n",
      "  ('P4', 'BORING') 0.07\n",
      "  ('P4', 'PLANING') 0\n",
      "  ('P5', 'GRINDING') 0.3\n",
      "  ('P5', 'VDRILL') 0\n",
      "  ('P5', 'HDRILL') 0\n",
      "  ('P5', 'BORING') 0.1\n",
      "  ('P5', 'PLANING') 0.05\n",
      "  ('P6', 'GRINDING') 0.2\n",
      "  ('P6', 'VDRILL') 0.6\n",
      "  ('P6', 'HDRILL') 0\n",
      "  ('P6', 'BORING') 0\n",
      "  ('P6', 'PLANING') 0\n",
      "  ('P7', 'GRINDING') 0.5\n",
      "  ('P7', 'VDRILL') 0\n",
      "  ('P7', 'HDRILL') 0.6\n",
      "  ('P7', 'BORING') 0.08\n",
      "  ('P7', 'PLANING') 0.05\n",
      "l\n",
      "  (1, 'P1') 500\n",
      "  (1, 'P2') 1000\n",
      "  (1, 'P3') 300\n",
      "  (1, 'P4') 300\n",
      "  (1, 'P5') 800\n",
      "  (1, 'P6') 200\n",
      "  (1, 'P7') 100\n",
      "  (2, 'P1') 600\n",
      "  (2, 'P2') 500\n",
      "  (2, 'P3') 200\n",
      "  (2, 'P4') 0\n",
      "  (2, 'P5') 400\n",
      "  (2, 'P6') 300\n",
      "  (2, 'P7') 150\n",
      "  (3, 'P1') 300\n",
      "  (3, 'P2') 600\n",
      "  (3, 'P3') 0\n",
      "  (3, 'P4') 0\n",
      "  (3, 'P5') 500\n",
      "  (3, 'P6') 400\n",
      "  (3, 'P7') 100\n",
      "  (4, 'P1') 200\n",
      "  (4, 'P2') 300\n",
      "  (4, 'P3') 400\n",
      "  (4, 'P4') 500\n",
      "  (4, 'P5') 200\n",
      "  (4, 'P6') 0\n",
      "  (4, 'P7') 100\n",
      "  (5, 'P1') 0\n",
      "  (5, 'P2') 100\n",
      "  (5, 'P3') 500\n",
      "  (5, 'P4') 100\n",
      "  (5, 'P5') 1000\n",
      "  (5, 'P6') 300\n",
      "  (5, 'P7') 0\n",
      "  (6, 'P1') 500\n",
      "  (6, 'P2') 500\n",
      "  (6, 'P3') 100\n",
      "  (6, 'P4') 300\n",
      "  (6, 'P5') 1100\n",
      "  (6, 'P6') 500\n",
      "  (6, 'P7') 60\n",
      "k\n",
      "  P1 10\n",
      "  P2 6\n",
      "  P3 8\n",
      "  P4 4\n",
      "  P5 11\n",
      "  P6 9\n",
      "  P7 3\n",
      "q\n",
      "  (1, 'GRINDING') 1\n",
      "  (1, 'VDRILL') 0\n",
      "  (1, 'HDRILL') 0\n",
      "  (1, 'BORING') 0\n",
      "  (1, 'PLANING') 0\n",
      "  (2, 'GRINDING') 0\n",
      "  (2, 'VDRILL') 0\n",
      "  (2, 'HDRILL') 2\n",
      "  (2, 'BORING') 0\n",
      "  (2, 'PLANING') 0\n",
      "  (3, 'GRINDING') 0\n",
      "  (3, 'VDRILL') 0\n",
      "  (3, 'HDRILL') 0\n",
      "  (3, 'BORING') 1\n",
      "  (3, 'PLANING') 0\n",
      "  (4, 'GRINDING') 0\n",
      "  (4, 'VDRILL') 1\n",
      "  (4, 'HDRILL') 0\n",
      "  (4, 'BORING') 0\n",
      "  (4, 'PLANING') 0\n",
      "  (5, 'GRINDING') 1\n",
      "  (5, 'VDRILL') 1\n",
      "  (5, 'HDRILL') 0\n",
      "  (5, 'BORING') 0\n",
      "  (5, 'PLANING') 0\n",
      "  (6, 'GRINDING') 0\n",
      "  (6, 'VDRILL') 0\n",
      "  (6, 'HDRILL') 1\n",
      "  (6, 'BORING') 0\n",
      "  (6, 'PLANING') 1\n",
      "c\n",
      "  GRINDING 4\n",
      "  VDRILL 2\n",
      "  HDRILL 3\n",
      "  BORING 1\n",
      "  PLANING 1\n",
      "g\n",
      "  None g\n",
      "z\n",
      "  None z\n",
      "r\n",
      "  None r\n"
     ]
    }
   ],
   "source": [
    "for p in instance.component_objects(Param, active=True):\n",
    "    print(p.name)\n",
    "    for index in p:\n",
    "        print(' ', index,p[index])"
   ]
  },
  {
   "cell_type": "markdown",
   "metadata": {},
   "source": [
    "# Factory Planning 2"
   ]
  },
  {
   "cell_type": "code",
   "execution_count": 73,
   "metadata": {},
   "outputs": [],
   "source": [
    "mdl = AbstractModel()"
   ]
  },
  {
   "cell_type": "markdown",
   "metadata": {},
   "source": [
    "## Sets"
   ]
  },
  {
   "cell_type": "markdown",
   "metadata": {},
   "source": [
    "$T$ Time periods\n",
    "\n",
    "$P$ Products\n",
    "\n",
    "$M$ Machines"
   ]
  },
  {
   "cell_type": "code",
   "execution_count": 74,
   "metadata": {},
   "outputs": [],
   "source": [
    "mdl.T = Set()\n",
    "mdl.P = Set()\n",
    "mdl.M = Set()"
   ]
  },
  {
   "cell_type": "markdown",
   "metadata": {},
   "source": [
    "## Parameters"
   ]
  },
  {
   "cell_type": "markdown",
   "metadata": {},
   "source": [
    "$f_{p,m}$ Time used to manufacture product p on machine m (in hours)\n",
    "\n",
    "$l_{t,p}$ Upper sales limit on product p in period t\n",
    "\n",
    "$k_{p}$ Profit for product p\n",
    "\n",
    "$c_{m}$ Number of machines\n",
    "\n",
    "$v_{m}$ Number of machine m that need to be down in a month\n",
    "\n",
    "$g$ Hours each machine can work\n",
    "\n",
    "$z$ Maximum stock of each product in last period\n",
    "\n",
    "$r$ Storage cost per product per month"
   ]
  },
  {
   "cell_type": "code",
   "execution_count": 75,
   "metadata": {},
   "outputs": [],
   "source": [
    "mdl.f = Param(mdl.P, mdl.M)\n",
    "mdl.l = Param(mdl.T, mdl.P)\n",
    "mdl.k = Param(mdl.P)\n",
    "mdl.c = Param(mdl.M)\n",
    "mdl.v = Param(mdl.M)\n",
    "mdl.g = Param(within=NonNegativeReals)\n",
    "mdl.z = Param(within=NonNegativeReals)\n",
    "mdl.r = Param(within=NonNegativeReals)"
   ]
  },
  {
   "cell_type": "markdown",
   "metadata": {},
   "source": [
    "## Variables"
   ]
  },
  {
   "cell_type": "markdown",
   "metadata": {},
   "source": [
    "$b_{t,p}$ Amount of product p produced in period t\n",
    "\n",
    "$u_{t,p}$ Amount of product p sold in period t\n",
    "\n",
    "$s_{t,p}$ Amount of product p sold in period t\n",
    "\n",
    "$d_{t,m}$ Number of machines m down in period p\n",
    "\n",
    "$b_{t,p},u_{t,p},s_{t,p}\\geq 0\\:\\forall t\\in T, \\forall p\\in P$\n",
    "\n",
    "$0\\leq d_{t,m}\\leq k_m, d_{t,m}\\in \\mathbb{Z}\\:\\forall t\\in T, \\forall m\\in M$"
   ]
  },
  {
   "cell_type": "code",
   "execution_count": 76,
   "metadata": {},
   "outputs": [],
   "source": [
    "mdl.b = Var(mdl.T, mdl.P, domain=NonNegativeReals)\n",
    "mdl.u = Var(mdl.T, mdl.P, domain=NonNegativeReals)\n",
    "mdl.s = Var(mdl.T, mdl.P, bounds=(0, 100), domain=NonNegativeReals)\n",
    "mdl.d = Var(mdl.T, mdl.M, domain=NonNegativeIntegers)"
   ]
  },
  {
   "cell_type": "markdown",
   "metadata": {},
   "source": [
    "## Objective Function"
   ]
  },
  {
   "cell_type": "markdown",
   "metadata": {},
   "source": [
    "$\\max\\sum\\limits_{t\\in T}\\sum\\limits_{p\\in P}k_p*u_{t,p}-r*s_{t,p}$"
   ]
  },
  {
   "cell_type": "code",
   "execution_count": 77,
   "metadata": {},
   "outputs": [],
   "source": [
    "def max_profit(mdl):\n",
    "    return sum(mdl.k[p] * mdl.u[t, p] - mdl.r * mdl.s[t, p] for t in mdl.T for p in mdl.P)\n",
    "\n",
    "mdl.OBJ = Objective(rule=max_profit, sense=maximize)"
   ]
  },
  {
   "cell_type": "markdown",
   "metadata": {},
   "source": [
    "## Constraints"
   ]
  },
  {
   "cell_type": "markdown",
   "metadata": {},
   "source": [
    "**Balance**\n",
    "\n",
    "$b_{t_0,p}=u_{t_0,p}+s_{t_0,p}\\:\\forall p\\in P$\n",
    "\n",
    "$s_{t-1,p}+b_{t,p}=u_{t,p}+s_{t,p}\\:\\forall t\\in T \\setminus{t_0}, \\forall p\\in P$\n",
    "\n",
    "$s_{t_e}=z\\:\\forall p\\in P$\n",
    "\n",
    "**Sales**\n",
    "\n",
    "$u_{t,p}\\leq l_{t,p}\\:\\forall t\\in T, \\forall p\\in P$\n",
    "\n",
    "**Machine**\n",
    "\n",
    "$\\sum\\limits_{p\\in P}f_{p,m}*b_{t,p}\\leq g*(c_{m}-d_{t,m})\\:\\forall t\\in T, \\forall m\\in M$\n",
    "\n",
    "$\\sum\\limits_{t\\in T}d_{t,m}=v_m$"
   ]
  },
  {
   "cell_type": "code",
   "execution_count": 78,
   "metadata": {},
   "outputs": [],
   "source": [
    "def initial_balance_expr(mdl, p):\n",
    "    return mdl.b[1, p] == mdl.u[1, p] + mdl.s[1, p]\n",
    "\n",
    "mdl.initial_balance_con = Constraint(mdl.P, rule=initial_balance_expr)\n",
    "\n",
    "def balance_expr(mdl, t, p):\n",
    "    if t >= 2:\n",
    "        return mdl.s[t-1, p] + mdl.b[t, p] == mdl.u[t, p] + mdl.s[t, p]\n",
    "    return Constraint.Skip\n",
    "\n",
    "mdl.balance_con = Constraint(mdl.T, mdl.P, rule=balance_expr)\n",
    "\n",
    "def end_balance_expr(mdl, p):\n",
    "    return mdl.s[6, p] == mdl.z\n",
    "\n",
    "mdl.end_balance = Constraint(mdl.P, rule=end_balance_expr)\n",
    "\n",
    "def sales_ub_expr(mdl, t, p):\n",
    "    return mdl.u[t, p] <= mdl.l[t, p]\n",
    "\n",
    "mdl.sales_ub_con = Constraint(mdl.T, mdl.P, rule=sales_ub_expr)\n",
    "\n",
    "def machine_availability_expr(mdl, t, m):\n",
    "    return sum(mdl.f[p, m] * mdl.b[t, p] for p in mdl.P) <= mdl.g * (mdl.c[m] - mdl.d[t, m])\n",
    "\n",
    "mdl.machine_availability_con = Constraint(mdl.T, mdl.M, rule=machine_availability_expr)\n",
    "\n",
    "def machine_maintenance_expr(mdl, t, m):\n",
    "    return sum(mdl.d[t, m] for t in mdl.T) == mdl.v[m]\n",
    "\n",
    "mdl.machine_maintenance_con = Constraint(mdl.T, mdl.M, rule=machine_maintenance_expr)"
   ]
  },
  {
   "cell_type": "markdown",
   "metadata": {},
   "source": [
    "## Solve"
   ]
  },
  {
   "cell_type": "code",
   "execution_count": 79,
   "metadata": {},
   "outputs": [],
   "source": [
    "n_shifts = 2\n",
    "n_work_hours = 8\n",
    "n_work_days = 6*4\n",
    "g = n_shifts * n_work_hours * n_work_days\n",
    "\n",
    "data = {None: {\n",
    "    'T': {None: [1, 2, 3, 4, 5, 6]},\n",
    "    'P': {None: ['P1', 'P2', 'P3', 'P4', 'P5', 'P6', 'P7']},\n",
    "    'M': {None: ['GRINDING', 'VDRILL', 'HDRILL', 'BORING', 'PLANING']},\n",
    "    'f': {('P1','GRINDING'): 0.5, ('P1','VDRILL'): 0.1, ('P1','HDRILL'): 0.2, ('P1','BORING'): 0.05, ('P1','PLANING'): 0, \n",
    "          ('P2','GRINDING'): 0.7, ('P2','VDRILL'): 0.2, ('P2','HDRILL'): 0, ('P2','BORING'): 0.03, ('P2','PLANING'): 0, \n",
    "          ('P3','GRINDING'): 0, ('P3','VDRILL'): 0, ('P3','HDRILL'): 0.8, ('P3','BORING'): 0, ('P3','PLANING'): 0.01,\n",
    "          ('P4','GRINDING'): 0, ('P4','VDRILL'): 0.3, ('P4','HDRILL'): 0, ('P4','BORING'): 0.07, ('P4','PLANING'): 0, \n",
    "          ('P5','GRINDING'): 0.3, ('P5','VDRILL'): 0, ('P5','HDRILL'): 0, ('P5','BORING'): 0.1, ('P5','PLANING'): 0.05, \n",
    "          ('P6','GRINDING'): 0.2, ('P6','VDRILL'): 0.6, ('P6','HDRILL'): 0, ('P6','BORING'): 0, ('P6','PLANING'): 0, \n",
    "          ('P7','GRINDING'): 0.5, ('P7','VDRILL'): 0, ('P7','HDRILL'): 0.6, ('P7','BORING'): 0.08, ('P7','PLANING'): 0.05},\n",
    "    'l': {(1,'P1'): 500, (1,'P2'): 1000, (1,'P3'): 300, (1,'P4'): 300, (1,'P5'): 800, (1,'P6'): 200, (1,'P7'): 100, \n",
    "          (2,'P1'): 600, (2,'P2'): 500, (2,'P3'): 200, (2,'P4'): 0, (2,'P5'): 400, (2,'P6'): 300, (2,'P7'): 150,\n",
    "          (3,'P1'): 300, (3,'P2'): 600, (3,'P3'): 0, (3,'P4'): 0, (3,'P5'): 500, (3,'P6'): 400, (3,'P7'): 100,\n",
    "          (4,'P1'): 200, (4,'P2'): 300, (4,'P3'): 400, (4,'P4'): 500, (4,'P5'): 200, (4,'P6'): 0, (4,'P7'): 100,\n",
    "          (5,'P1'): 0, (5,'P2'): 100, (5,'P3'): 500, (5,'P4'): 100, (5,'P5'): 1000, (5,'P6'): 300, (5,'P7'): 0,\n",
    "          (6,'P1'): 500, (6,'P2'): 500, (6,'P3'): 100, (6,'P4'): 300, (6,'P5'): 1100, (6,'P6'): 500, (6,'P7'): 60},\n",
    "    'k': {'P1': 10, 'P2': 6, 'P3': 8, 'P4': 4, 'P5': 11, 'P6': 9, 'P7': 3},\n",
    "    'c': {'GRINDING': 4, 'VDRILL': 2, 'HDRILL': 3, 'BORING': 1, 'PLANING': 1},\n",
    "    'v': {'GRINDING': 2, 'VDRILL': 2, 'HDRILL': 3, 'BORING': 1, 'PLANING': 1},\n",
    "    'g': {None: g},\n",
    "    'z': {None: 50},\n",
    "    'r': {None: 0.5}\n",
    "}}"
   ]
  },
  {
   "cell_type": "code",
   "execution_count": 80,
   "metadata": {},
   "outputs": [
    {
     "name": "stdout",
     "output_type": "stream",
     "text": [
      "GLPSOL: GLPK LP/MIP Solver, v4.65\n",
      "Parameter(s) specified in the command line:\n",
      " --write /tmp/tmph_nx3frz.glpk.raw --wglp /tmp/tmpwijokxyn.glpk.glp --cpxlp\n",
      " /tmp/tmp5obhuw24.pyomo.lp\n",
      "Reading problem data from '/tmp/tmp5obhuw24.pyomo.lp'...\n",
      "152 rows, 157 columns, 541 non-zeros\n",
      "30 integer variables, none of which are binary\n",
      "1276 lines were read\n",
      "Writing problem data to '/tmp/tmpwijokxyn.glpk.glp'...\n",
      "1204 lines were written\n",
      "GLPK Integer Optimizer, v4.65\n",
      "152 rows, 157 columns, 541 non-zeros\n",
      "30 integer variables, none of which are binary\n",
      "Preprocessing...\n",
      "12 constraint coefficient(s) were reduced\n",
      "100 rows, 107 columns, 430 non-zeros\n",
      "30 integer variables, 12 of which are binary\n",
      "Scaling...\n",
      " A: min|aij| =  1.000e-02  max|aij| =  3.840e+02  ratio =  3.840e+04\n",
      "GM: min|aij| =  4.988e-01  max|aij| =  2.005e+00  ratio =  4.019e+00\n",
      "EQ: min|aij| =  2.554e-01  max|aij| =  1.000e+00  ratio =  3.916e+00\n",
      "2N: min|aij| =  2.000e-01  max|aij| =  1.600e+00  ratio =  8.000e+00\n",
      "Constructing initial basis...\n",
      "Size of triangular part is 75\n",
      "Solving LP relaxation...\n",
      "GLPK Simplex Optimizer, v4.65\n",
      "100 rows, 107 columns, 430 non-zeros\n",
      "      0: obj =  -2.725000000e+03 inf =   3.438e+01 (7)\n",
      "     21: obj =  -4.250000000e+02 inf =   0.000e+00 (0)\n",
      "*   100: obj =   1.164550000e+05 inf =   1.847e-13 (0)\n",
      "OPTIMAL LP SOLUTION FOUND\n",
      "Integer optimization begins...\n",
      "Long-step dual simplex will be used\n",
      "+   100: mip =     not found yet <=              +inf        (1; 0)\n",
      "+   132: >>>>>   1.031550000e+05 <=   1.159924325e+05  12.4% (14; 0)\n",
      "+   278: >>>>>   1.068550000e+05 <=   1.111785714e+05   4.0% (34; 15)\n",
      "+   290: >>>>>   1.069050000e+05 <=   1.111050000e+05   3.9% (12; 62)\n",
      "+   297: >>>>>   1.088550000e+05 <=   1.110216667e+05   2.0% (13; 67)\n",
      "+   311: mip =   1.088550000e+05 <=     tree is empty   0.0% (0; 103)\n",
      "INTEGER OPTIMAL SOLUTION FOUND\n",
      "Time used:   0.0 secs\n",
      "Memory used: 0.3 Mb (303547 bytes)\n",
      "Writing MIP solution to '/tmp/tmph_nx3frz.glpk.raw'...\n",
      "318 lines were written\n"
     ]
    }
   ],
   "source": [
    "instance = mdl.create_instance(data)\n",
    "opt = SolverFactory('glpk')\n",
    "factoryPlanning2_results = opt.solve(instance, tee=True)"
   ]
  },
  {
   "cell_type": "markdown",
   "metadata": {},
   "source": [
    "## Result"
   ]
  },
  {
   "cell_type": "markdown",
   "metadata": {},
   "source": [
    "Variables"
   ]
  },
  {
   "cell_type": "code",
   "execution_count": 81,
   "metadata": {},
   "outputs": [
    {
     "name": "stdout",
     "output_type": "stream",
     "text": [
      "b\n",
      "  (1, 'P1') 500.0\n",
      "  (1, 'P2') 1000.0\n",
      "  (1, 'P3') 300.0\n",
      "  (1, 'P4') 300.0\n",
      "  (1, 'P5') 800.0\n",
      "  (1, 'P6') 200.0\n",
      "  (1, 'P7') 100.0\n",
      "  (2, 'P1') 600.0\n",
      "  (2, 'P2') 500.0\n",
      "  (2, 'P3') 200.0\n",
      "  (2, 'P4') 0.0\n",
      "  (2, 'P5') 400.0\n",
      "  (2, 'P6') 300.0\n",
      "  (2, 'P7') 150.0\n",
      "  (3, 'P1') 400.0\n",
      "  (3, 'P2') 700.0\n",
      "  (3, 'P3') 100.0\n",
      "  (3, 'P4') 100.0\n",
      "  (3, 'P5') 600.0\n",
      "  (3, 'P6') 400.0\n",
      "  (3, 'P7') 200.0\n",
      "  (4, 'P1') 0.0\n",
      "  (4, 'P2') 0.0\n",
      "  (4, 'P3') 0.0\n",
      "  (4, 'P4') 0.0\n",
      "  (4, 'P5') 0.0\n",
      "  (4, 'P6') 0.0\n",
      "  (4, 'P7') 0.0\n",
      "  (5, 'P1') 0.0\n",
      "  (5, 'P2') 100.0\n",
      "  (5, 'P3') 500.0\n",
      "  (5, 'P4') 100.0\n",
      "  (5, 'P5') 1000.0\n",
      "  (5, 'P6') 300.0\n",
      "  (5, 'P7') 0.0\n",
      "  (6, 'P1') 550.0\n",
      "  (6, 'P2') 550.0\n",
      "  (6, 'P3') 150.0\n",
      "  (6, 'P4') 350.0\n",
      "  (6, 'P5') 1150.0\n",
      "  (6, 'P6') 550.0\n",
      "  (6, 'P7') 110.0\n",
      "u\n",
      "  (1, 'P1') 500.0\n",
      "  (1, 'P2') 1000.0\n",
      "  (1, 'P3') 300.0\n",
      "  (1, 'P4') 300.0\n",
      "  (1, 'P5') 800.0\n",
      "  (1, 'P6') 200.0\n",
      "  (1, 'P7') 100.0\n",
      "  (2, 'P1') 600.0\n",
      "  (2, 'P2') 500.0\n",
      "  (2, 'P3') 200.0\n",
      "  (2, 'P4') 0.0\n",
      "  (2, 'P5') 400.0\n",
      "  (2, 'P6') 300.0\n",
      "  (2, 'P7') 150.0\n",
      "  (3, 'P1') 300.0\n",
      "  (3, 'P2') 600.0\n",
      "  (3, 'P3') 0.0\n",
      "  (3, 'P4') 0.0\n",
      "  (3, 'P5') 500.0\n",
      "  (3, 'P6') 400.0\n",
      "  (3, 'P7') 100.0\n",
      "  (4, 'P1') 100.0\n",
      "  (4, 'P2') 100.0\n",
      "  (4, 'P3') 100.0\n",
      "  (4, 'P4') 100.0\n",
      "  (4, 'P5') 100.0\n",
      "  (4, 'P6') 0.0\n",
      "  (4, 'P7') 100.0\n",
      "  (5, 'P1') 0.0\n",
      "  (5, 'P2') 100.0\n",
      "  (5, 'P3') 500.0\n",
      "  (5, 'P4') 100.0\n",
      "  (5, 'P5') 1000.0\n",
      "  (5, 'P6') 300.0\n",
      "  (5, 'P7') 0.0\n",
      "  (6, 'P1') 500.0\n",
      "  (6, 'P2') 500.0\n",
      "  (6, 'P3') 100.0\n",
      "  (6, 'P4') 300.0\n",
      "  (6, 'P5') 1100.0\n",
      "  (6, 'P6') 500.0\n",
      "  (6, 'P7') 60.0\n",
      "s\n",
      "  (1, 'P1') 0.0\n",
      "  (1, 'P2') 0.0\n",
      "  (1, 'P3') 0.0\n",
      "  (1, 'P4') 0.0\n",
      "  (1, 'P5') 0.0\n",
      "  (1, 'P6') 0.0\n",
      "  (1, 'P7') 0.0\n",
      "  (2, 'P1') 0.0\n",
      "  (2, 'P2') 0.0\n",
      "  (2, 'P3') 0.0\n",
      "  (2, 'P4') 0.0\n",
      "  (2, 'P5') 0.0\n",
      "  (2, 'P6') 0.0\n",
      "  (2, 'P7') 0.0\n",
      "  (3, 'P1') 100.0\n",
      "  (3, 'P2') 100.0\n",
      "  (3, 'P3') 100.0\n",
      "  (3, 'P4') 100.0\n",
      "  (3, 'P5') 100.0\n",
      "  (3, 'P6') 0.0\n",
      "  (3, 'P7') 100.0\n",
      "  (4, 'P1') 0.0\n",
      "  (4, 'P2') 0.0\n",
      "  (4, 'P3') 0.0\n",
      "  (4, 'P4') 0.0\n",
      "  (4, 'P5') 0.0\n",
      "  (4, 'P6') 0.0\n",
      "  (4, 'P7') 0.0\n",
      "  (5, 'P1') 0.0\n",
      "  (5, 'P2') 0.0\n",
      "  (5, 'P3') 0.0\n",
      "  (5, 'P4') 0.0\n",
      "  (5, 'P5') 6.82121026329696e-13\n",
      "  (5, 'P6') 0.0\n",
      "  (5, 'P7') 0.0\n",
      "  (6, 'P1') 50.0\n",
      "  (6, 'P2') 50.0\n",
      "  (6, 'P3') 50.0\n",
      "  (6, 'P4') 50.0\n",
      "  (6, 'P5') 50.0\n",
      "  (6, 'P6') 50.0\n",
      "  (6, 'P7') 50.0\n",
      "d\n",
      "  (1, 'GRINDING') 0.0\n",
      "  (1, 'VDRILL') 0.0\n",
      "  (1, 'HDRILL') 1.0\n",
      "  (1, 'BORING') 0.0\n",
      "  (1, 'PLANING') 0.0\n",
      "  (2, 'GRINDING') 0.0\n",
      "  (2, 'VDRILL') 1.0\n",
      "  (2, 'HDRILL') 0.0\n",
      "  (2, 'BORING') 0.0\n",
      "  (2, 'PLANING') 0.0\n",
      "  (3, 'GRINDING') 0.0\n",
      "  (3, 'VDRILL') 0.0\n",
      "  (3, 'HDRILL') 0.0\n",
      "  (3, 'BORING') 0.0\n",
      "  (3, 'PLANING') 0.0\n",
      "  (4, 'GRINDING') 2.0\n",
      "  (4, 'VDRILL') 1.0\n",
      "  (4, 'HDRILL') 0.0\n",
      "  (4, 'BORING') 1.0\n",
      "  (4, 'PLANING') 1.0\n",
      "  (5, 'GRINDING') 0.0\n",
      "  (5, 'VDRILL') 0.0\n",
      "  (5, 'HDRILL') 0.0\n",
      "  (5, 'BORING') 0.0\n",
      "  (5, 'PLANING') 0.0\n",
      "  (6, 'GRINDING') 0.0\n",
      "  (6, 'VDRILL') 0.0\n",
      "  (6, 'HDRILL') 2.0\n",
      "  (6, 'BORING') 0.0\n",
      "  (6, 'PLANING') 0.0\n"
     ]
    }
   ],
   "source": [
    "for v in instance.component_objects(Var, active=True):\n",
    "    print(v)\n",
    "    for index in v:\n",
    "        print(' ', index, value(v[index]))"
   ]
  },
  {
   "cell_type": "markdown",
   "metadata": {},
   "source": [
    "Parameters"
   ]
  },
  {
   "cell_type": "code",
   "execution_count": 82,
   "metadata": {},
   "outputs": [
    {
     "name": "stdout",
     "output_type": "stream",
     "text": [
      "f\n",
      "  ('P1', 'GRINDING') 0.5\n",
      "  ('P1', 'VDRILL') 0.1\n",
      "  ('P1', 'HDRILL') 0.2\n",
      "  ('P1', 'BORING') 0.05\n",
      "  ('P1', 'PLANING') 0\n",
      "  ('P2', 'GRINDING') 0.7\n",
      "  ('P2', 'VDRILL') 0.2\n",
      "  ('P2', 'HDRILL') 0\n",
      "  ('P2', 'BORING') 0.03\n",
      "  ('P2', 'PLANING') 0\n",
      "  ('P3', 'GRINDING') 0\n",
      "  ('P3', 'VDRILL') 0\n",
      "  ('P3', 'HDRILL') 0.8\n",
      "  ('P3', 'BORING') 0\n",
      "  ('P3', 'PLANING') 0.01\n",
      "  ('P4', 'GRINDING') 0\n",
      "  ('P4', 'VDRILL') 0.3\n",
      "  ('P4', 'HDRILL') 0\n",
      "  ('P4', 'BORING') 0.07\n",
      "  ('P4', 'PLANING') 0\n",
      "  ('P5', 'GRINDING') 0.3\n",
      "  ('P5', 'VDRILL') 0\n",
      "  ('P5', 'HDRILL') 0\n",
      "  ('P5', 'BORING') 0.1\n",
      "  ('P5', 'PLANING') 0.05\n",
      "  ('P6', 'GRINDING') 0.2\n",
      "  ('P6', 'VDRILL') 0.6\n",
      "  ('P6', 'HDRILL') 0\n",
      "  ('P6', 'BORING') 0\n",
      "  ('P6', 'PLANING') 0\n",
      "  ('P7', 'GRINDING') 0.5\n",
      "  ('P7', 'VDRILL') 0\n",
      "  ('P7', 'HDRILL') 0.6\n",
      "  ('P7', 'BORING') 0.08\n",
      "  ('P7', 'PLANING') 0.05\n",
      "l\n",
      "  (1, 'P1') 500\n",
      "  (1, 'P2') 1000\n",
      "  (1, 'P3') 300\n",
      "  (1, 'P4') 300\n",
      "  (1, 'P5') 800\n",
      "  (1, 'P6') 200\n",
      "  (1, 'P7') 100\n",
      "  (2, 'P1') 600\n",
      "  (2, 'P2') 500\n",
      "  (2, 'P3') 200\n",
      "  (2, 'P4') 0\n",
      "  (2, 'P5') 400\n",
      "  (2, 'P6') 300\n",
      "  (2, 'P7') 150\n",
      "  (3, 'P1') 300\n",
      "  (3, 'P2') 600\n",
      "  (3, 'P3') 0\n",
      "  (3, 'P4') 0\n",
      "  (3, 'P5') 500\n",
      "  (3, 'P6') 400\n",
      "  (3, 'P7') 100\n",
      "  (4, 'P1') 200\n",
      "  (4, 'P2') 300\n",
      "  (4, 'P3') 400\n",
      "  (4, 'P4') 500\n",
      "  (4, 'P5') 200\n",
      "  (4, 'P6') 0\n",
      "  (4, 'P7') 100\n",
      "  (5, 'P1') 0\n",
      "  (5, 'P2') 100\n",
      "  (5, 'P3') 500\n",
      "  (5, 'P4') 100\n",
      "  (5, 'P5') 1000\n",
      "  (5, 'P6') 300\n",
      "  (5, 'P7') 0\n",
      "  (6, 'P1') 500\n",
      "  (6, 'P2') 500\n",
      "  (6, 'P3') 100\n",
      "  (6, 'P4') 300\n",
      "  (6, 'P5') 1100\n",
      "  (6, 'P6') 500\n",
      "  (6, 'P7') 60\n",
      "k\n",
      "  P1 10\n",
      "  P2 6\n",
      "  P3 8\n",
      "  P4 4\n",
      "  P5 11\n",
      "  P6 9\n",
      "  P7 3\n",
      "c\n",
      "  GRINDING 4\n",
      "  VDRILL 2\n",
      "  HDRILL 3\n",
      "  BORING 1\n",
      "  PLANING 1\n",
      "v\n",
      "  GRINDING 2\n",
      "  VDRILL 2\n",
      "  HDRILL 3\n",
      "  BORING 1\n",
      "  PLANING 1\n",
      "g\n",
      "  None g\n",
      "z\n",
      "  None z\n",
      "r\n",
      "  None r\n"
     ]
    }
   ],
   "source": [
    "for p in instance.component_objects(Param, active=True):\n",
    "    print(p.name)\n",
    "    for index in p:\n",
    "        print(' ', index,p[index])"
   ]
  },
  {
   "cell_type": "markdown",
   "metadata": {},
   "source": [
    "# Manpower Planning"
   ]
  },
  {
   "cell_type": "code",
   "execution_count": 3,
   "metadata": {},
   "outputs": [],
   "source": [
    "mdl = AbstractModel()"
   ]
  },
  {
   "cell_type": "markdown",
   "metadata": {},
   "source": [
    "## Sets"
   ]
  },
  {
   "cell_type": "markdown",
   "metadata": {},
   "source": [
    "$T$ Time periods\n",
    "\n",
    "$S$ Workers"
   ]
  },
  {
   "cell_type": "code",
   "execution_count": 4,
   "metadata": {},
   "outputs": [],
   "source": [
    "mdl.T = Set()\n",
    "mdl.S = Set()"
   ]
  },
  {
   "cell_type": "markdown",
   "metadata": {},
   "source": [
    "## Parameters"
   ]
  },
  {
   "cell_type": "markdown",
   "metadata": {},
   "source": [
    "$r_{s,t}$ Manpower requirements\n",
    "\n",
    "$q_{s}$ Percentage of workers with skill level s leaving in first year of service\n",
    "\n",
    "$p_{s}$ Percentage of workers with skill level s leaving after first year of service\n",
    "\n",
    "$o_{s}$ Number of workers with skill level s that can be recruited per year\n",
    "\n",
    "$n_{s}$ Cost per superfluous worker with skill level s per year\n",
    "\n",
    "$m_{s}$ Cost of short-term work per worker with skill level s per year\n",
    "\n",
    "$l_{s}$ Cost of firing a worker with skill level s\n",
    "\n",
    "$k_{s}$ Cost of retraining a worker with skill level s"
   ]
  },
  {
   "cell_type": "code",
   "execution_count": 5,
   "metadata": {},
   "outputs": [],
   "source": [
    "mdl.r = Param(mdl.S, mdl.T)\n",
    "mdl.q = Param(mdl.S)\n",
    "mdl.p = Param(mdl.S)\n",
    "mdl.o = Param(mdl.S)\n",
    "mdl.n = Param(mdl.S)\n",
    "mdl.m = Param(mdl.S)\n",
    "mdl.l = Param(mdl.S)\n",
    "mdl.k = Param(mdl.S)"
   ]
  },
  {
   "cell_type": "markdown",
   "metadata": {},
   "source": [
    "## Variables"
   ]
  },
  {
   "cell_type": "markdown",
   "metadata": {},
   "source": [
    "$u_{s,t}$ Number of employed workers with skill level s in period t\n",
    "\n",
    "$v_{s,t}$ Number of recruited workers with skill level s in period t\n",
    "\n",
    "$w_{s_i,s_j,t}$ Number of workers with level $s_i$ retrained to workers with level $s_j$ in period t, where $i<j$\n",
    "\n",
    "$w_{s_j,s_i,t}$ Number of workers with level $s_i$ downgraded to workers with level $s_j$ in period t, where $i<j$\n",
    "\n",
    "$x_{s,t}$ Number of workers with skill level s fired in period t\n",
    "\n",
    "$y_{s,t}$ Number of workers with skill level s on short-term work in period t\n",
    "\n",
    "$z_{s,t}$ Number of superfluous workers with skill level s in period t"
   ]
  },
  {
   "cell_type": "code",
   "execution_count": 6,
   "metadata": {},
   "outputs": [],
   "source": [
    "mdl.u = Var(mdl.S, mdl.T, domain=NonNegativeReals)\n",
    "mdl.v = Var(mdl.S, mdl.T, domain=NonNegativeReals)\n",
    "mdl.w = Var(mdl.S, mdl.S, mdl.T, domain=NonNegativeReals)\n",
    "mdl.x = Var(mdl.S, mdl.T, domain=NonNegativeReals)\n",
    "mdl.y = Var(mdl.S, mdl.T, domain=NonNegativeReals)\n",
    "mdl.z = Var(mdl.S, mdl.T, domain=NonNegativeReals)"
   ]
  },
  {
   "cell_type": "markdown",
   "metadata": {},
   "source": [
    "## Objective Function"
   ]
  },
  {
   "cell_type": "markdown",
   "metadata": {},
   "source": [
    "### Minimize Costs "
   ]
  },
  {
   "cell_type": "markdown",
   "metadata": {},
   "source": [
    "$\\min\\sum\\limits_{t\\in T \\setminus{t_0}}k_{us}*w_{us,ss,t}+k_{ss}*w_{ss,sk,t}+\\sum\\limits_{s\\in S}l_{s}*x_{s,t}+m_{s}*y_{s,t}+n_{s}*z_{s,t}$\n",
    "\n",
    "retraining + fired + short-time + overmanning"
   ]
  },
  {
   "cell_type": "code",
   "execution_count": 7,
   "metadata": {},
   "outputs": [],
   "source": [
    "def min_cost(mdl):\n",
    "    retraining = sum(mdl.k['US']*mdl.w['US','SS',t] + mdl.k['SS']*mdl.w['SS','SK',t] for t in mdl.T if t > 1)\n",
    "    redundancy = sum(mdl.l['US']*mdl.x['US',t] + mdl.l['SS']*mdl.x['SS',t] + mdl.l['SK']*mdl.x['SK',t] for t in mdl.T if t > 1)\n",
    "    short_term = sum(mdl.m['US']*mdl.y['US',t] + mdl.m['SS']*mdl.y['SS',t] + mdl.m['SK']*mdl.y['SK',t] for t in mdl.T if t > 1)\n",
    "    overmanning = sum(mdl.n['US']*mdl.z['US',t] + mdl.n['SS']*mdl.z['SS',t] + mdl.n['SK']*mdl.z['SK',t] for t in mdl.T if t > 1)\n",
    "    return retraining + redundancy + short_term + overmanning\n",
    "    \n",
    "mdl.OBJ = Objective(rule=min_cost, sense=minimize)"
   ]
  },
  {
   "cell_type": "markdown",
   "metadata": {},
   "source": [
    "### Minimize Redundancy"
   ]
  },
  {
   "cell_type": "markdown",
   "metadata": {},
   "source": [
    "$\\min\\sum\\limits_{s\\in S}\\sum\\limits_{t\\in T}x_{s,t}$"
   ]
  },
  {
   "cell_type": "code",
   "execution_count": 17,
   "metadata": {},
   "outputs": [],
   "source": [
    "def min_redundancy(mdl):\n",
    "    return sum(mdl.x[s,t] for s in mdl.S for t in mdl.T)\n",
    "\n",
    "mdl.OBJ = Objective(rule=min_redundancy, sense=minimize)"
   ]
  },
  {
   "cell_type": "markdown",
   "metadata": {},
   "source": [
    "## Constraints"
   ]
  },
  {
   "cell_type": "markdown",
   "metadata": {},
   "source": [
    "**initial manpower**\n",
    "\n",
    "$u_{s,t_0}=r_{s,t_0}$\n",
    "\n",
    "**balance**\n",
    "\n",
    "$u_{us,t}=(1-p_{us})*u_{us,t-1}+(1-q_{us})*v_{us,t}+0.5*(w_{ss,us,t}+w_{sk,us,t})-w_{us,ss,t}-x_{us,t}\\:\\forall t\\in T \\setminus{t_0}$\n",
    "\n",
    "$u_{ss,t}=(1-p_{ss})*(u_{ss,t-1}+w_{us,ss,t})+(1-q_{ss})*v_{ss,t}+0.5*w_{sk,ss,t}-w_{ss,us,t}-w_{ss,sk,t}-x_{ss,t}\\:\\forall t\\in T \\setminus{t_0}$\n",
    "\n",
    "$u_{sk,t}=(1-p_{sk})*(u_{sk,t-1}+w_{ss,sk,t})+(1-q_{sk})*v_{sk,t}-w_{sk,us,t}-w_{sk,ss,t}-x_{sk,t}\\:\\forall t\\in T \\setminus{t_0}$\n",
    "\n",
    "**recruitment**\n",
    "\n",
    "$v_{s,t}\\leq o_s \\:\\forall s\\in S, \\forall t\\in T \\setminus{t_0}$\n",
    "\n",
    "**retraining**\n",
    "\n",
    "$w_{us,ss,t}\\leq 200 \\:\\forall t\\in T \\setminus{t_0}$\n",
    "\n",
    "$w_{ss,sk,t}-0.25*u_{sk,t}\\leq 0 \\:\\forall t\\in T \\setminus{t_0}$\n",
    "\n",
    "**overmanning**\n",
    "\n",
    "$z_{s,t}\\leq 150 \\:\\forall s\\in S, \\forall t\\in T \\setminus{t_0}$\n",
    "\n",
    "**manpower requirements**\n",
    "\n",
    "$u_{s,t}-z_{s,t}-0.5*y_{s,t} = r_{s,t} \\:\\forall s\\in S, \\forall t\\in T \\setminus{t_0}$\n",
    "\n",
    "**short-time**\n",
    "\n",
    "$y_{s,t}\\leq 50 \\:\\forall s\\in S, \\forall t\\in T \\setminus{t_0}$"
   ]
  },
  {
   "cell_type": "code",
   "execution_count": 8,
   "metadata": {},
   "outputs": [],
   "source": [
    "def initial_manpower_expr(mdl, s):\n",
    "    return mdl.u[s, 1] == mdl.r[s, 1]\n",
    "\n",
    "mdl.initial_manpower_con = Constraint(mdl.S, rule=initial_manpower_expr)\n",
    "\n",
    "def balance_us_expr(mdl, t):\n",
    "    if t > 1:\n",
    "        return mdl.u['US',t] == (1-mdl.p['US'])*mdl.u['US',t-1]+(1-mdl.q['US'])*mdl.v['US',t]+0.5*(mdl.w['SS','US',t]+mdl.w['SK','US',t])-mdl.w['US','SS',t]-mdl.x['US',t]\n",
    "    return Constraint.Skip\n",
    "\n",
    "mdl.balance_us_con = Constraint(mdl.T, rule=balance_us_expr)\n",
    "\n",
    "def balance_ss_expr(mdl, t):\n",
    "    if t > 1:\n",
    "        return mdl.u['SS',t] == (1-mdl.p['SS'])*(mdl.u['SS',t-1]+mdl.w['US','SS',t])+(1-mdl.q['SS'])*mdl.v['SS',t]+0.5*mdl.w['SK','SS',t]-mdl.w['SS','US',t]-mdl.w['SS','SK',t]-mdl.x['SS',t]\n",
    "    return Constraint.Skip\n",
    "    \n",
    "mdl.balance_ss_con = Constraint(mdl.T, rule=balance_ss_expr)\n",
    "\n",
    "def balance_sk_expr(mdl, t):\n",
    "    if t > 1:\n",
    "        return mdl.u['SK',t] == (1-mdl.p['SK'])*(mdl.u['SK',t-1]+mdl.w['SS','SK',t])+(1-mdl.q['SK'])*mdl.v['SK',t]-mdl.w['SK','US',t]-mdl.w['SK','SS',t]-mdl.x['SK',t]\n",
    "    return Constraint.Skip\n",
    "    \n",
    "mdl.balance_sk_con = Constraint(mdl.T, rule=balance_sk_expr)\n",
    "\n",
    "def recruitment_expr(mdl, s, t):\n",
    "    if t > 1:\n",
    "        return mdl.v[s,t] <= mdl.o[s]\n",
    "    return Constraint.Skip\n",
    "\n",
    "mdl.recruitment_con = Constraint(mdl.S, mdl.T, rule=recruitment_expr)\n",
    "\n",
    "def retraining_us_expr(mdl, t):\n",
    "    if t > 1:\n",
    "        return mdl.w['US','SS',t] <= 200\n",
    "    return Constraint.Skip\n",
    "\n",
    "mdl.retraining_us_con = Constraint(mdl.T, rule=retraining_us_expr)\n",
    "\n",
    "def retraining_ss_expr(mdl, t):\n",
    "    if t > 1:\n",
    "        return mdl.w['SS','SK',t]-0.25*mdl.u['SK',t] <= 0\n",
    "    return Constraint.Skip\n",
    "\n",
    "mdl.retraining_ss_con = Constraint(mdl.T, rule=retraining_ss_expr)\n",
    "\n",
    "def overmanning_expr(mdl, t):\n",
    "    if t > 1:\n",
    "        return sum(mdl.z[s,t] for s in mdl.S) <= 150\n",
    "    return Constraint.Skip\n",
    "\n",
    "mdl.overmanning_con = Constraint(mdl.T, rule=overmanning_expr)\n",
    "\n",
    "def manpower_requirements_expr(mdl, s, t):\n",
    "    if t > 1:\n",
    "        return mdl.u[s,t]-mdl.z[s,t]-0.5*mdl.y[s,t] == mdl.r[s,t]\n",
    "    return Constraint.Skip\n",
    "\n",
    "mdl.manpower_requirements_con = Constraint(mdl.S, mdl.T, rule=manpower_requirements_expr)\n",
    "\n",
    "def short_time_expr(mdl, s, t):\n",
    "    if t > 1:\n",
    "        return mdl.y[s,t] <= 50\n",
    "    return Constraint.Skip\n",
    "    \n",
    "mdl.short_time_con = Constraint(mdl.S, mdl.T, rule=short_time_expr)"
   ]
  },
  {
   "cell_type": "markdown",
   "metadata": {},
   "source": [
    "## Solve"
   ]
  },
  {
   "cell_type": "code",
   "execution_count": 9,
   "metadata": {},
   "outputs": [],
   "source": [
    "data = {None: {\n",
    "    'T': {None: [1, 2, 3, 4]},\n",
    "    'S': {None: ['US', 'SS', 'SK']},\n",
    "    'r': {('US', 1): 2000, ('US',2): 1000, ('US',3): 500, ('US',4): 0,\n",
    "          ('SS', 1): 1500, ('SS',2): 1400, ('SS',3): 2000, ('SS',4): 2500,\n",
    "          ('SK', 1): 1000, ('SK',2): 1000, ('SK',3): 1500, ('SK',4): 2000},\n",
    "    'q': {'US': 0.25, 'SS': 0.20, 'SK': 0.10},\n",
    "    'p': {'US': 0.10, 'SS': 0.05, 'SK': 0.05},\n",
    "    'o': {'US': 500, 'SS': 800, 'SK': 500},\n",
    "    'l': {'US': 200, 'SS': 500, 'SK': 500},\n",
    "    'n': {'US': 1500, 'SS': 2000, 'SK': 3000},\n",
    "    'm': {'US': 500, 'SS': 400, 'SK': 400},\n",
    "    'k': {'US': 400, 'SS': 500, 'SK': 0}\n",
    "}}"
   ]
  },
  {
   "cell_type": "code",
   "execution_count": 10,
   "metadata": {},
   "outputs": [
    {
     "name": "stdout",
     "output_type": "stream",
     "text": [
      "GLPSOL: GLPK LP/MIP Solver, v4.65\n",
      "Parameter(s) specified in the command line:\n",
      " --write /tmp/tmp76j1ak32.glpk.raw --wglp /tmp/tmpoer971x3.glpk.glp --cpxlp\n",
      " /tmp/tmpwdwzd5kw.pyomo.lp\n",
      "Reading problem data from '/tmp/tmpwdwzd5kw.pyomo.lp'...\n",
      "49 rows, 64 columns, 133 non-zeros\n",
      "384 lines were read\n",
      "Writing problem data to '/tmp/tmpoer971x3.glpk.glp'...\n",
      "321 lines were written\n",
      "GLPK Simplex Optimizer, v4.65\n",
      "49 rows, 64 columns, 133 non-zeros\n",
      "Preprocessing...\n",
      "24 rows, 42 columns, 87 non-zeros\n",
      "Scaling...\n",
      " A: min|aij| =  2.500e-01  max|aij| =  1.000e+00  ratio =  4.000e+00\n",
      "Problem data seem to be well scaled\n",
      "Constructing initial basis...\n",
      "Size of triangular part is 24\n",
      "      0: obj =  -8.272500000e+06 inf =   1.190e+04 (8)\n",
      "     20: obj =   5.559210526e+05 inf =   0.000e+00 (0)\n",
      "*    25: obj =   4.986772853e+05 inf =   0.000e+00 (0)\n",
      "OPTIMAL LP SOLUTION FOUND\n",
      "Time used:   0.0 secs\n",
      "Memory used: 0.1 Mb (80836 bytes)\n",
      "Writing basic solution to '/tmp/tmp76j1ak32.glpk.raw'...\n",
      "122 lines were written\n"
     ]
    }
   ],
   "source": [
    "instance = mdl.create_instance(data)\n",
    "opt = SolverFactory('glpk')\n",
    "manpowerPlanning_results = opt.solve(instance, tee=True)"
   ]
  },
  {
   "cell_type": "markdown",
   "metadata": {},
   "source": [
    "## Result"
   ]
  },
  {
   "cell_type": "code",
   "execution_count": 11,
   "metadata": {},
   "outputs": [
    {
     "name": "stdout",
     "output_type": "stream",
     "text": [
      "12 Set Declarations\n",
      "    S : Size=1, Index=None, Ordered=Insertion\n",
      "        Key  : Dimen : Domain : Size : Members\n",
      "        None :     1 :    Any :    3 : {'US', 'SS', 'SK'}\n",
      "    T : Size=1, Index=None, Ordered=Insertion\n",
      "        Key  : Dimen : Domain : Size : Members\n",
      "        None :     1 :    Any :    4 : {1, 2, 3, 4}\n",
      "    manpower_requirements_con_index : Size=1, Index=None, Ordered=True\n",
      "        Key  : Dimen : Domain : Size : Members\n",
      "        None :     2 :    S*T :   12 : {('US', 1), ('US', 2), ('US', 3), ('US', 4), ('SS', 1), ('SS', 2), ('SS', 3), ('SS', 4), ('SK', 1), ('SK', 2), ('SK', 3), ('SK', 4)}\n",
      "    r_index : Size=1, Index=None, Ordered=True\n",
      "        Key  : Dimen : Domain : Size : Members\n",
      "        None :     2 :    S*T :   12 : {('US', 1), ('US', 2), ('US', 3), ('US', 4), ('SS', 1), ('SS', 2), ('SS', 3), ('SS', 4), ('SK', 1), ('SK', 2), ('SK', 3), ('SK', 4)}\n",
      "    recruitment_con_index : Size=1, Index=None, Ordered=True\n",
      "        Key  : Dimen : Domain : Size : Members\n",
      "        None :     2 :    S*T :   12 : {('US', 1), ('US', 2), ('US', 3), ('US', 4), ('SS', 1), ('SS', 2), ('SS', 3), ('SS', 4), ('SK', 1), ('SK', 2), ('SK', 3), ('SK', 4)}\n",
      "    short_time_con_index : Size=1, Index=None, Ordered=True\n",
      "        Key  : Dimen : Domain : Size : Members\n",
      "        None :     2 :    S*T :   12 : {('US', 1), ('US', 2), ('US', 3), ('US', 4), ('SS', 1), ('SS', 2), ('SS', 3), ('SS', 4), ('SK', 1), ('SK', 2), ('SK', 3), ('SK', 4)}\n",
      "    u_index : Size=1, Index=None, Ordered=True\n",
      "        Key  : Dimen : Domain : Size : Members\n",
      "        None :     2 :    S*T :   12 : {('US', 1), ('US', 2), ('US', 3), ('US', 4), ('SS', 1), ('SS', 2), ('SS', 3), ('SS', 4), ('SK', 1), ('SK', 2), ('SK', 3), ('SK', 4)}\n",
      "    v_index : Size=1, Index=None, Ordered=True\n",
      "        Key  : Dimen : Domain : Size : Members\n",
      "        None :     2 :    S*T :   12 : {('US', 1), ('US', 2), ('US', 3), ('US', 4), ('SS', 1), ('SS', 2), ('SS', 3), ('SS', 4), ('SK', 1), ('SK', 2), ('SK', 3), ('SK', 4)}\n",
      "    w_index : Size=1, Index=None, Ordered=True\n",
      "        Key  : Dimen : Domain : Size : Members\n",
      "        None :     3 :  S*S*T :   36 : {('US', 'US', 1), ('US', 'US', 2), ('US', 'US', 3), ('US', 'US', 4), ('US', 'SS', 1), ('US', 'SS', 2), ('US', 'SS', 3), ('US', 'SS', 4), ('US', 'SK', 1), ('US', 'SK', 2), ('US', 'SK', 3), ('US', 'SK', 4), ('SS', 'US', 1), ('SS', 'US', 2), ('SS', 'US', 3), ('SS', 'US', 4), ('SS', 'SS', 1), ('SS', 'SS', 2), ('SS', 'SS', 3), ('SS', 'SS', 4), ('SS', 'SK', 1), ('SS', 'SK', 2), ('SS', 'SK', 3), ('SS', 'SK', 4), ('SK', 'US', 1), ('SK', 'US', 2), ('SK', 'US', 3), ('SK', 'US', 4), ('SK', 'SS', 1), ('SK', 'SS', 2), ('SK', 'SS', 3), ('SK', 'SS', 4), ('SK', 'SK', 1), ('SK', 'SK', 2), ('SK', 'SK', 3), ('SK', 'SK', 4)}\n",
      "    x_index : Size=1, Index=None, Ordered=True\n",
      "        Key  : Dimen : Domain : Size : Members\n",
      "        None :     2 :    S*T :   12 : {('US', 1), ('US', 2), ('US', 3), ('US', 4), ('SS', 1), ('SS', 2), ('SS', 3), ('SS', 4), ('SK', 1), ('SK', 2), ('SK', 3), ('SK', 4)}\n",
      "    y_index : Size=1, Index=None, Ordered=True\n",
      "        Key  : Dimen : Domain : Size : Members\n",
      "        None :     2 :    S*T :   12 : {('US', 1), ('US', 2), ('US', 3), ('US', 4), ('SS', 1), ('SS', 2), ('SS', 3), ('SS', 4), ('SK', 1), ('SK', 2), ('SK', 3), ('SK', 4)}\n",
      "    z_index : Size=1, Index=None, Ordered=True\n",
      "        Key  : Dimen : Domain : Size : Members\n",
      "        None :     2 :    S*T :   12 : {('US', 1), ('US', 2), ('US', 3), ('US', 4), ('SS', 1), ('SS', 2), ('SS', 3), ('SS', 4), ('SK', 1), ('SK', 2), ('SK', 3), ('SK', 4)}\n",
      "\n",
      "8 Param Declarations\n",
      "    k : Size=3, Index=S, Domain=Any, Default=None, Mutable=False\n",
      "        Key : Value\n",
      "         SK :     0\n",
      "         SS :   500\n",
      "         US :   400\n",
      "    l : Size=3, Index=S, Domain=Any, Default=None, Mutable=False\n",
      "        Key : Value\n",
      "         SK :   500\n",
      "         SS :   500\n",
      "         US :   200\n",
      "    m : Size=3, Index=S, Domain=Any, Default=None, Mutable=False\n",
      "        Key : Value\n",
      "         SK :   400\n",
      "         SS :   400\n",
      "         US :   500\n",
      "    n : Size=3, Index=S, Domain=Any, Default=None, Mutable=False\n",
      "        Key : Value\n",
      "         SK :  3000\n",
      "         SS :  2000\n",
      "         US :  1500\n",
      "    o : Size=3, Index=S, Domain=Any, Default=None, Mutable=False\n",
      "        Key : Value\n",
      "         SK :   500\n",
      "         SS :   800\n",
      "         US :   500\n",
      "    p : Size=3, Index=S, Domain=Any, Default=None, Mutable=False\n",
      "        Key : Value\n",
      "         SK :  0.05\n",
      "         SS :  0.05\n",
      "         US :   0.1\n",
      "    q : Size=3, Index=S, Domain=Any, Default=None, Mutable=False\n",
      "        Key : Value\n",
      "         SK :   0.1\n",
      "         SS :   0.2\n",
      "         US :  0.25\n",
      "    r : Size=12, Index=r_index, Domain=Any, Default=None, Mutable=False\n",
      "        Key       : Value\n",
      "        ('SK', 1) :  1000\n",
      "        ('SK', 2) :  1000\n",
      "        ('SK', 3) :  1500\n",
      "        ('SK', 4) :  2000\n",
      "        ('SS', 1) :  1500\n",
      "        ('SS', 2) :  1400\n",
      "        ('SS', 3) :  2000\n",
      "        ('SS', 4) :  2500\n",
      "        ('US', 1) :  2000\n",
      "        ('US', 2) :  1000\n",
      "        ('US', 3) :   500\n",
      "        ('US', 4) :     0\n",
      "\n",
      "6 Var Declarations\n",
      "    u : Size=12, Index=u_index\n",
      "        Key       : Lower : Value  : Upper : Fixed : Stale : Domain\n",
      "        ('SK', 1) :     0 : 1000.0 :  None : False : False : NonNegativeReals\n",
      "        ('SK', 2) :     0 : 1000.0 :  None : False : False : NonNegativeReals\n",
      "        ('SK', 3) :     0 : 1500.0 :  None : False : False : NonNegativeReals\n",
      "        ('SK', 4) :     0 : 2000.0 :  None : False : False : NonNegativeReals\n",
      "        ('SS', 1) :     0 : 1500.0 :  None : False : False : NonNegativeReals\n",
      "        ('SS', 2) :     0 : 1400.0 :  None : False : False : NonNegativeReals\n",
      "        ('SS', 3) :     0 : 2000.0 :  None : False : False : NonNegativeReals\n",
      "        ('SS', 4) :     0 : 2500.0 :  None : False : False : NonNegativeReals\n",
      "        ('US', 1) :     0 : 2000.0 :  None : False : False : NonNegativeReals\n",
      "        ('US', 2) :     0 : 1000.0 :  None : False : False : NonNegativeReals\n",
      "        ('US', 3) :     0 :  500.0 :  None : False : False : NonNegativeReals\n",
      "        ('US', 4) :     0 :    0.0 :  None : False : False : NonNegativeReals\n",
      "    v : Size=12, Index=v_index\n",
      "        Key       : Lower : Value            : Upper : Fixed : Stale : Domain\n",
      "        ('SK', 1) :     0 :             None :  None : False :  True : NonNegativeReals\n",
      "        ('SK', 2) :     0 : 55.5555555555556 :  None : False : False : NonNegativeReals\n",
      "        ('SK', 3) :     0 :            500.0 :  None : False : False : NonNegativeReals\n",
      "        ('SK', 4) :     0 :            500.0 :  None : False : False : NonNegativeReals\n",
      "        ('SS', 1) :     0 :             None :  None : False :  True : NonNegativeReals\n",
      "        ('SS', 2) :     0 :              0.0 :  None : False : False : NonNegativeReals\n",
      "        ('SS', 3) :     0 :            800.0 :  None : False : False : NonNegativeReals\n",
      "        ('SS', 4) :     0 :            800.0 :  None : False : False : NonNegativeReals\n",
      "        ('US', 1) :     0 :             None :  None : False :  True : NonNegativeReals\n",
      "        ('US', 2) :     0 :              0.0 :  None : False : False : NonNegativeReals\n",
      "        ('US', 3) :     0 :              0.0 :  None : False : False : NonNegativeReals\n",
      "        ('US', 4) :     0 :              0.0 :  None : False : False : NonNegativeReals\n",
      "    w : Size=36, Index=w_index\n",
      "        Key             : Lower : Value            : Upper : Fixed : Stale : Domain\n",
      "        ('SK', 'SK', 1) :     0 :             None :  None : False :  True : NonNegativeReals\n",
      "        ('SK', 'SK', 2) :     0 :             None :  None : False :  True : NonNegativeReals\n",
      "        ('SK', 'SK', 3) :     0 :             None :  None : False :  True : NonNegativeReals\n",
      "        ('SK', 'SK', 4) :     0 :             None :  None : False :  True : NonNegativeReals\n",
      "        ('SK', 'SS', 1) :     0 :             None :  None : False :  True : NonNegativeReals\n",
      "        ('SK', 'SS', 2) :     0 :              0.0 :  None : False : False : NonNegativeReals\n",
      "        ('SK', 'SS', 3) :     0 :              0.0 :  None : False : False : NonNegativeReals\n",
      "        ('SK', 'SS', 4) :     0 :              0.0 :  None : False : False : NonNegativeReals\n",
      "        ('SK', 'US', 1) :     0 :             None :  None : False :  True : NonNegativeReals\n",
      "        ('SK', 'US', 2) :     0 :              0.0 :  None : False : False : NonNegativeReals\n",
      "        ('SK', 'US', 3) :     0 :              0.0 :  None : False : False : NonNegativeReals\n",
      "        ('SK', 'US', 4) :     0 :              0.0 :  None : False : False : NonNegativeReals\n",
      "        ('SS', 'SK', 1) :     0 :             None :  None : False :  True : NonNegativeReals\n",
      "        ('SS', 'SK', 2) :     0 :              0.0 :  None : False : False : NonNegativeReals\n",
      "        ('SS', 'SK', 3) :     0 : 105.263157894737 :  None : False : False : NonNegativeReals\n",
      "        ('SS', 'SK', 4) :     0 : 131.578947368421 :  None : False : False : NonNegativeReals\n",
      "        ('SS', 'SS', 1) :     0 :             None :  None : False :  True : NonNegativeReals\n",
      "        ('SS', 'SS', 2) :     0 :             None :  None : False :  True : NonNegativeReals\n",
      "        ('SS', 'SS', 3) :     0 :             None :  None : False :  True : NonNegativeReals\n",
      "        ('SS', 'SS', 4) :     0 :             None :  None : False :  True : NonNegativeReals\n",
      "        ('SS', 'US', 1) :     0 :             None :  None : False :  True : NonNegativeReals\n",
      "        ('SS', 'US', 2) :     0 :             25.0 :  None : False : False : NonNegativeReals\n",
      "        ('SS', 'US', 3) :     0 :              0.0 :  None : False : False : NonNegativeReals\n",
      "        ('SS', 'US', 4) :     0 :              0.0 :  None : False : False : NonNegativeReals\n",
      "        ('US', 'SK', 1) :     0 :             None :  None : False :  True : NonNegativeReals\n",
      "        ('US', 'SK', 2) :     0 :             None :  None : False :  True : NonNegativeReals\n",
      "        ('US', 'SK', 3) :     0 :             None :  None : False :  True : NonNegativeReals\n",
      "        ('US', 'SK', 4) :     0 :             None :  None : False :  True : NonNegativeReals\n",
      "        ('US', 'SS', 1) :     0 :             None :  None : False :  True : NonNegativeReals\n",
      "        ('US', 'SS', 2) :     0 :              0.0 :  None : False : False : NonNegativeReals\n",
      "        ('US', 'SS', 3) :     0 : 142.382271468144 :  None : False : False : NonNegativeReals\n",
      "        ('US', 'SS', 4) :     0 :  96.398891966759 :  None : False : False : NonNegativeReals\n",
      "        ('US', 'US', 1) :     0 :             None :  None : False :  True : NonNegativeReals\n",
      "        ('US', 'US', 2) :     0 :             None :  None : False :  True : NonNegativeReals\n",
      "        ('US', 'US', 3) :     0 :             None :  None : False :  True : NonNegativeReals\n",
      "        ('US', 'US', 4) :     0 :             None :  None : False :  True : NonNegativeReals\n",
      "    x : Size=12, Index=x_index\n",
      "        Key       : Lower : Value            : Upper : Fixed : Stale : Domain\n",
      "        ('SK', 1) :     0 :             None :  None : False :  True : NonNegativeReals\n",
      "        ('SK', 2) :     0 :              0.0 :  None : False : False : NonNegativeReals\n",
      "        ('SK', 3) :     0 :              0.0 :  None : False : False : NonNegativeReals\n",
      "        ('SK', 4) :     0 :              0.0 :  None : False : False : NonNegativeReals\n",
      "        ('SS', 1) :     0 :             None :  None : False :  True : NonNegativeReals\n",
      "        ('SS', 2) :     0 :              0.0 :  None : False : False : NonNegativeReals\n",
      "        ('SS', 3) :     0 :              0.0 :  None : False : False : NonNegativeReals\n",
      "        ('SS', 4) :     0 :              0.0 :  None : False : False : NonNegativeReals\n",
      "        ('US', 1) :     0 :             None :  None : False :  True : NonNegativeReals\n",
      "        ('US', 2) :     0 :            812.5 :  None : False : False : NonNegativeReals\n",
      "        ('US', 3) :     0 : 257.617728531856 :  None : False : False : NonNegativeReals\n",
      "        ('US', 4) :     0 : 353.601108033241 :  None : False : False : NonNegativeReals\n",
      "    y : Size=12, Index=y_index\n",
      "        Key       : Lower : Value : Upper : Fixed : Stale : Domain\n",
      "        ('SK', 1) :     0 :  None :  None : False :  True : NonNegativeReals\n",
      "        ('SK', 2) :     0 :   0.0 :  None : False : False : NonNegativeReals\n",
      "        ('SK', 3) :     0 :   0.0 :  None : False : False : NonNegativeReals\n",
      "        ('SK', 4) :     0 :   0.0 :  None : False : False : NonNegativeReals\n",
      "        ('SS', 1) :     0 :  None :  None : False :  True : NonNegativeReals\n",
      "        ('SS', 2) :     0 :   0.0 :  None : False : False : NonNegativeReals\n",
      "        ('SS', 3) :     0 :   0.0 :  None : False : False : NonNegativeReals\n",
      "        ('SS', 4) :     0 :   0.0 :  None : False : False : NonNegativeReals\n",
      "        ('US', 1) :     0 :  None :  None : False :  True : NonNegativeReals\n",
      "        ('US', 2) :     0 :   0.0 :  None : False : False : NonNegativeReals\n",
      "        ('US', 3) :     0 :   0.0 :  None : False : False : NonNegativeReals\n",
      "        ('US', 4) :     0 :  -0.0 :  None : False : False : NonNegativeReals\n",
      "    z : Size=12, Index=z_index\n",
      "        Key       : Lower : Value : Upper : Fixed : Stale : Domain\n",
      "        ('SK', 1) :     0 :  None :  None : False :  True : NonNegativeReals\n",
      "        ('SK', 2) :     0 :   0.0 :  None : False : False : NonNegativeReals\n",
      "        ('SK', 3) :     0 :   0.0 :  None : False : False : NonNegativeReals\n",
      "        ('SK', 4) :     0 :   0.0 :  None : False : False : NonNegativeReals\n",
      "        ('SS', 1) :     0 :  None :  None : False :  True : NonNegativeReals\n",
      "        ('SS', 2) :     0 :   0.0 :  None : False : False : NonNegativeReals\n",
      "        ('SS', 3) :     0 :   0.0 :  None : False : False : NonNegativeReals\n",
      "        ('SS', 4) :     0 :   0.0 :  None : False : False : NonNegativeReals\n",
      "        ('US', 1) :     0 :  None :  None : False :  True : NonNegativeReals\n",
      "        ('US', 2) :     0 :   0.0 :  None : False : False : NonNegativeReals\n",
      "        ('US', 3) :     0 :   0.0 :  None : False : False : NonNegativeReals\n",
      "        ('US', 4) :     0 :   0.0 :  None : False : False : NonNegativeReals\n",
      "\n",
      "1 Objective Declarations\n",
      "    OBJ : Size=1, Index=None, Active=True\n",
      "        Key  : Active : Sense    : Expression\n",
      "        None :   True : minimize : 400*w[US,SS,2] + 500*w[SS,SK,2] + 400*w[US,SS,3] + 500*w[SS,SK,3] + 400*w[US,SS,4] + 500*w[SS,SK,4] + 200*x[US,2] + 500*x[SS,2] + 500*x[SK,2] + 200*x[US,3] + 500*x[SS,3] + 500*x[SK,3] + 200*x[US,4] + 500*x[SS,4] + 500*x[SK,4] + 500*y[US,2] + 400*y[SS,2] + 400*y[SK,2] + 500*y[US,3] + 400*y[SS,3] + 400*y[SK,3] + 500*y[US,4] + 400*y[SS,4] + 400*y[SK,4] + 1500*z[US,2] + 2000*z[SS,2] + 3000*z[SK,2] + 1500*z[US,3] + 2000*z[SS,3] + 3000*z[SK,3] + 1500*z[US,4] + 2000*z[SS,4] + 3000*z[SK,4]\n",
      "\n",
      "10 Constraint Declarations\n",
      "    balance_sk_con : Size=3, Index=T, Active=True\n",
      "        Key : Lower : Body                                                                                      : Upper : Active\n",
      "          2 :   0.0 : u[SK,2] - (0.95*(u[SK,1] + w[SS,SK,2]) + 0.9*v[SK,2] - w[SK,US,2] - w[SK,SS,2] - x[SK,2]) :   0.0 :   True\n",
      "          3 :   0.0 : u[SK,3] - (0.95*(u[SK,2] + w[SS,SK,3]) + 0.9*v[SK,3] - w[SK,US,3] - w[SK,SS,3] - x[SK,3]) :   0.0 :   True\n",
      "          4 :   0.0 : u[SK,4] - (0.95*(u[SK,3] + w[SS,SK,4]) + 0.9*v[SK,4] - w[SK,US,4] - w[SK,SS,4] - x[SK,4]) :   0.0 :   True\n",
      "    balance_ss_con : Size=3, Index=T, Active=True\n",
      "        Key : Lower : Body                                                                                                       : Upper : Active\n",
      "          2 :   0.0 : u[SS,2] - (0.95*(u[SS,1] + w[US,SS,2]) + 0.8*v[SS,2] + 0.5*w[SK,SS,2] - w[SS,US,2] - w[SS,SK,2] - x[SS,2]) :   0.0 :   True\n",
      "          3 :   0.0 : u[SS,3] - (0.95*(u[SS,2] + w[US,SS,3]) + 0.8*v[SS,3] + 0.5*w[SK,SS,3] - w[SS,US,3] - w[SS,SK,3] - x[SS,3]) :   0.0 :   True\n",
      "          4 :   0.0 : u[SS,4] - (0.95*(u[SS,3] + w[US,SS,4]) + 0.8*v[SS,4] + 0.5*w[SK,SS,4] - w[SS,US,4] - w[SS,SK,4] - x[SS,4]) :   0.0 :   True\n",
      "    balance_us_con : Size=3, Index=T, Active=True\n",
      "        Key : Lower : Body                                                                                          : Upper : Active\n",
      "          2 :   0.0 : u[US,2] - (0.9*u[US,1] + 0.75*v[US,2] + 0.5*(w[SS,US,2] + w[SK,US,2]) - w[US,SS,2] - x[US,2]) :   0.0 :   True\n",
      "          3 :   0.0 : u[US,3] - (0.9*u[US,2] + 0.75*v[US,3] + 0.5*(w[SS,US,3] + w[SK,US,3]) - w[US,SS,3] - x[US,3]) :   0.0 :   True\n",
      "          4 :   0.0 : u[US,4] - (0.9*u[US,3] + 0.75*v[US,4] + 0.5*(w[SS,US,4] + w[SK,US,4]) - w[US,SS,4] - x[US,4]) :   0.0 :   True\n",
      "    initial_manpower_con : Size=3, Index=S, Active=True\n",
      "        Key : Lower  : Body    : Upper  : Active\n",
      "         SK : 1000.0 : u[SK,1] : 1000.0 :   True\n",
      "         SS : 1500.0 : u[SS,1] : 1500.0 :   True\n",
      "         US : 2000.0 : u[US,1] : 2000.0 :   True\n",
      "    manpower_requirements_con : Size=9, Index=manpower_requirements_con_index, Active=True\n",
      "        Key       : Lower  : Body                            : Upper  : Active\n",
      "        ('SK', 2) : 1000.0 : u[SK,2] - z[SK,2] - 0.5*y[SK,2] : 1000.0 :   True\n",
      "        ('SK', 3) : 1500.0 : u[SK,3] - z[SK,3] - 0.5*y[SK,3] : 1500.0 :   True\n",
      "        ('SK', 4) : 2000.0 : u[SK,4] - z[SK,4] - 0.5*y[SK,4] : 2000.0 :   True\n",
      "        ('SS', 2) : 1400.0 : u[SS,2] - z[SS,2] - 0.5*y[SS,2] : 1400.0 :   True\n",
      "        ('SS', 3) : 2000.0 : u[SS,3] - z[SS,3] - 0.5*y[SS,3] : 2000.0 :   True\n",
      "        ('SS', 4) : 2500.0 : u[SS,4] - z[SS,4] - 0.5*y[SS,4] : 2500.0 :   True\n",
      "        ('US', 2) : 1000.0 : u[US,2] - z[US,2] - 0.5*y[US,2] : 1000.0 :   True\n",
      "        ('US', 3) :  500.0 : u[US,3] - z[US,3] - 0.5*y[US,3] :  500.0 :   True\n",
      "        ('US', 4) :    0.0 : u[US,4] - z[US,4] - 0.5*y[US,4] :    0.0 :   True\n",
      "    overmanning_con : Size=3, Index=T, Active=True\n",
      "        Key : Lower : Body                        : Upper : Active\n",
      "          2 :  -Inf : z[US,2] + z[SS,2] + z[SK,2] : 150.0 :   True\n",
      "          3 :  -Inf : z[US,3] + z[SS,3] + z[SK,3] : 150.0 :   True\n",
      "          4 :  -Inf : z[US,4] + z[SS,4] + z[SK,4] : 150.0 :   True\n",
      "    recruitment_con : Size=9, Index=recruitment_con_index, Active=True\n",
      "        Key       : Lower : Body    : Upper : Active\n",
      "        ('SK', 2) :  -Inf : v[SK,2] : 500.0 :   True\n",
      "        ('SK', 3) :  -Inf : v[SK,3] : 500.0 :   True\n",
      "        ('SK', 4) :  -Inf : v[SK,4] : 500.0 :   True\n",
      "        ('SS', 2) :  -Inf : v[SS,2] : 800.0 :   True\n",
      "        ('SS', 3) :  -Inf : v[SS,3] : 800.0 :   True\n",
      "        ('SS', 4) :  -Inf : v[SS,4] : 800.0 :   True\n",
      "        ('US', 2) :  -Inf : v[US,2] : 500.0 :   True\n",
      "        ('US', 3) :  -Inf : v[US,3] : 500.0 :   True\n",
      "        ('US', 4) :  -Inf : v[US,4] : 500.0 :   True\n",
      "    retraining_ss_con : Size=3, Index=T, Active=True\n",
      "        Key : Lower : Body                      : Upper : Active\n",
      "          2 :  -Inf : w[SS,SK,2] - 0.25*u[SK,2] :   0.0 :   True\n",
      "          3 :  -Inf : w[SS,SK,3] - 0.25*u[SK,3] :   0.0 :   True\n",
      "          4 :  -Inf : w[SS,SK,4] - 0.25*u[SK,4] :   0.0 :   True\n",
      "    retraining_us_con : Size=3, Index=T, Active=True\n",
      "        Key : Lower : Body       : Upper : Active\n",
      "          2 :  -Inf : w[US,SS,2] : 200.0 :   True\n",
      "          3 :  -Inf : w[US,SS,3] : 200.0 :   True\n",
      "          4 :  -Inf : w[US,SS,4] : 200.0 :   True\n",
      "    short_time_con : Size=9, Index=short_time_con_index, Active=True\n",
      "        Key       : Lower : Body    : Upper : Active\n",
      "        ('SK', 2) :  -Inf : y[SK,2] :  50.0 :   True\n",
      "        ('SK', 3) :  -Inf : y[SK,3] :  50.0 :   True\n",
      "        ('SK', 4) :  -Inf : y[SK,4] :  50.0 :   True\n",
      "        ('SS', 2) :  -Inf : y[SS,2] :  50.0 :   True\n",
      "        ('SS', 3) :  -Inf : y[SS,3] :  50.0 :   True\n",
      "        ('SS', 4) :  -Inf : y[SS,4] :  50.0 :   True\n",
      "        ('US', 2) :  -Inf : y[US,2] :  50.0 :   True\n",
      "        ('US', 3) :  -Inf : y[US,3] :  50.0 :   True\n",
      "        ('US', 4) :  -Inf : y[US,4] :  50.0 :   True\n",
      "\n",
      "37 Declarations: T S r_index r q p o n m l k u_index u v_index v w_index w x_index x y_index y z_index z OBJ initial_manpower_con balance_us_con balance_ss_con balance_sk_con recruitment_con_index recruitment_con retraining_us_con retraining_ss_con overmanning_con manpower_requirements_con_index manpower_requirements_con short_time_con_index short_time_con\n"
     ]
    }
   ],
   "source": [
    "instance.pprint()"
   ]
  },
  {
   "cell_type": "markdown",
   "metadata": {},
   "source": [
    "Variables"
   ]
  },
  {
   "cell_type": "code",
   "execution_count": 33,
   "metadata": {
    "scrolled": true
   },
   "outputs": [
    {
     "name": "stdout",
     "output_type": "stream",
     "text": [
      "u\n",
      "  ('US', 1) 2000.0\n",
      "  ('US', 2) 1000.0\n",
      "  ('US', 3) 500.0\n",
      "  ('US', 4) 0.0\n",
      "  ('SS', 1) 1500.0\n",
      "  ('SS', 2) 1400.0\n",
      "  ('SS', 3) 2000.0\n",
      "  ('SS', 4) 2500.0\n",
      "  ('SK', 1) 1000.0\n",
      "  ('SK', 2) 1000.0\n",
      "  ('SK', 3) 1500.0\n",
      "  ('SK', 4) 2000.0\n",
      "v\n",
      "ERROR: evaluating object as numeric value: v[US,1]\n",
      "        (object: <class 'pyomo.core.base.var._GeneralVarData'>)\n",
      "    No value for uninitialized NumericValue object v[US,1]\n"
     ]
    },
    {
     "ename": "ValueError",
     "evalue": "No value for uninitialized NumericValue object v[US,1]",
     "output_type": "error",
     "traceback": [
      "\u001b[0;31m---------------------------------------------------------------------------\u001b[0m",
      "\u001b[0;31mValueError\u001b[0m                                Traceback (most recent call last)",
      "\u001b[0;32m<ipython-input-33-86ded62987f3>\u001b[0m in \u001b[0;36m<module>\u001b[0;34m\u001b[0m\n\u001b[1;32m      2\u001b[0m     \u001b[0mprint\u001b[0m\u001b[0;34m(\u001b[0m\u001b[0mv\u001b[0m\u001b[0;34m)\u001b[0m\u001b[0;34m\u001b[0m\u001b[0;34m\u001b[0m\u001b[0m\n\u001b[1;32m      3\u001b[0m     \u001b[0;32mfor\u001b[0m \u001b[0mindex\u001b[0m \u001b[0;32min\u001b[0m \u001b[0mv\u001b[0m\u001b[0;34m:\u001b[0m\u001b[0;34m\u001b[0m\u001b[0;34m\u001b[0m\u001b[0m\n\u001b[0;32m----> 4\u001b[0;31m         \u001b[0mprint\u001b[0m\u001b[0;34m(\u001b[0m\u001b[0;34m' '\u001b[0m\u001b[0;34m,\u001b[0m \u001b[0mindex\u001b[0m\u001b[0;34m,\u001b[0m \u001b[0mvalue\u001b[0m\u001b[0;34m(\u001b[0m\u001b[0mv\u001b[0m\u001b[0;34m[\u001b[0m\u001b[0mindex\u001b[0m\u001b[0;34m]\u001b[0m\u001b[0;34m)\u001b[0m\u001b[0;34m)\u001b[0m\u001b[0;34m\u001b[0m\u001b[0;34m\u001b[0m\u001b[0m\n\u001b[0m",
      "\u001b[0;32mpyomo/core/expr/numvalue.pyx\u001b[0m in \u001b[0;36mpyomo.core.expr.numvalue.value\u001b[0;34m()\u001b[0m\n",
      "\u001b[0;32mpyomo/core/expr/numvalue.pyx\u001b[0m in \u001b[0;36mpyomo.core.expr.numvalue.value\u001b[0;34m()\u001b[0m\n",
      "\u001b[0;31mValueError\u001b[0m: No value for uninitialized NumericValue object v[US,1]"
     ]
    }
   ],
   "source": [
    "for v in instance.component_objects(Var, active=True):\n",
    "    print(v)\n",
    "    for index in v:\n",
    "        print(' ', index, value(v[index]))"
   ]
  },
  {
   "cell_type": "code",
   "execution_count": 30,
   "metadata": {},
   "outputs": [
    {
     "data": {
      "text/plain": [
       "[('US', 1),\n",
       " ('US', 2),\n",
       " ('US', 3),\n",
       " ('US', 4),\n",
       " ('SS', 1),\n",
       " ('SS', 2),\n",
       " ('SS', 3),\n",
       " ('SS', 4),\n",
       " ('SK', 1),\n",
       " ('SK', 2),\n",
       " ('SK', 3),\n",
       " ('SK', 4)]"
      ]
     },
     "execution_count": 30,
     "metadata": {},
     "output_type": "execute_result"
    }
   ],
   "source": [
    "list(list(instance.component_objects(Var, active=True))[1])"
   ]
  },
  {
   "cell_type": "markdown",
   "metadata": {},
   "source": [
    "Parameters"
   ]
  },
  {
   "cell_type": "code",
   "execution_count": 14,
   "metadata": {},
   "outputs": [
    {
     "name": "stdout",
     "output_type": "stream",
     "text": [
      "r\n",
      "  ('US', 1) 2000\n",
      "  ('US', 2) 1000\n",
      "  ('US', 3) 500\n",
      "  ('US', 4) 0\n",
      "  ('SS', 1) 1500\n",
      "  ('SS', 2) 1400\n",
      "  ('SS', 3) 2000\n",
      "  ('SS', 4) 2500\n",
      "  ('SK', 1) 1000\n",
      "  ('SK', 2) 1000\n",
      "  ('SK', 3) 1500\n",
      "  ('SK', 4) 2000\n",
      "q\n",
      "  US 0.25\n",
      "  SS 0.2\n",
      "  SK 0.1\n",
      "p\n",
      "  US 0.1\n",
      "  SS 0.05\n",
      "  SK 0.05\n",
      "o\n",
      "  US 500\n",
      "  SS 800\n",
      "  SK 500\n",
      "n\n",
      "  US 1500\n",
      "  SS 2000\n",
      "  SK 3000\n",
      "m\n",
      "  US 500\n",
      "  SS 400\n",
      "  SK 400\n",
      "l\n",
      "  US 200\n",
      "  SS 500\n",
      "  SK 500\n",
      "k\n",
      "  US 400\n",
      "  SS 500\n",
      "  SK 0\n"
     ]
    }
   ],
   "source": [
    "for p in instance.component_objects(Param, active=True):\n",
    "    print(p.name)\n",
    "    for index in p:\n",
    "        print(' ', index,p[index])"
   ]
  },
  {
   "cell_type": "markdown",
   "metadata": {},
   "source": [
    "# Refinery Optimisation"
   ]
  },
  {
   "cell_type": "code",
   "execution_count": 4,
   "metadata": {},
   "outputs": [],
   "source": [
    "mdl = AbstractModel()"
   ]
  },
  {
   "cell_type": "markdown",
   "metadata": {},
   "source": [
    "## Sets"
   ]
  },
  {
   "cell_type": "markdown",
   "metadata": {},
   "source": [
    "## Parameters"
   ]
  },
  {
   "cell_type": "code",
   "execution_count": null,
   "metadata": {},
   "outputs": [],
   "source": [
    "DISTILLATION\n",
    "\n",
    "cra --> light naphta\n",
    "cra --> medium naphta\n",
    "cra --> heavy naphta\n",
    "cra --> light oil\n",
    "cra --> heavy oil\n",
    "cra --> residdum\n",
    "\n",
    "crb --> light naphta\n",
    "crb --> medium naphta\n",
    "crb --> heavy naphta\n",
    "crb --> light oil\n",
    "crb --> heavy oil\n",
    "crb --> residdum\n",
    "\n",
    "REFORMING\n",
    "\n",
    "light naphta --> reformed gasoline\n",
    "medium naphta --> reformed gasoline\n",
    "heavy naphta --> reformed gasoline\n",
    "\n",
    "CRACKING\n",
    "\n",
    "light oil --> jet fuel\n",
    "heavy oil --> jet fuel\n",
    "\n",
    "light oil --> fuel oil\n",
    "heavy oil --> fuel oil\n",
    "\n",
    "light oil --> cracked oil\n",
    "heavy oil --> cracked oil\n",
    "\n",
    "light oil --> cracked gasoline\n",
    "heavy oil --> cracked gasoline\n",
    "\n",
    "cracked oil --> fuel oil\n",
    "cracked oil --> jet fuel\n",
    "cracked gasoline --> petrol\n",
    "\n",
    "residuum --> lube oil\n",
    "residuum --> jet fuel\n",
    "residuum --> fuel oil\n",
    "\n",
    "BLENDING\n",
    "\n"
   ]
  },
  {
   "cell_type": "markdown",
   "metadata": {},
   "source": [
    "## Variables"
   ]
  },
  {
   "cell_type": "code",
   "execution_count": 6,
   "metadata": {},
   "outputs": [
    {
     "name": "stdout",
     "output_type": "stream",
     "text": [
      "WARNING: Implicitly replacing the Component attribute cr1 (type=<class\n",
      "    'pyomo.core.base.var.SimpleVar'>) on block unknown with a new Component\n",
      "    (type=<class 'pyomo.core.base.var.SimpleVar'>). This is usually indicative\n",
      "    of a modelling error. To avoid this warning, use block.del_component() and\n",
      "    block.add_component().\n"
     ]
    }
   ],
   "source": [
    "mdl.cra = Var(domain=NonNegativeReals)\n",
    "mdl.crb = Var(domain=NonNegativeReals)\n",
    "mdl.ln = Var(domain=NonNegativeReals)\n",
    "mdl.mn = Var(domain=NonNegativeReals)\n",
    "mdl.hn = Var(domain=NonNegativeReals)\n",
    "mdl.lo = Var(domain=NonNegativeReals)\n",
    "mdl.ho = Var(domain=NonNegativeReals)\n",
    "mdl.r = Var(domain=NonNegativeReals)\n",
    "mdl.lnrg = Var(domain=NonNegativeReals)\n",
    "mdl.mnrg = Var(domain=NonNegativeReals)\n",
    "mdl.hnrg = Var(domain=NonNegativeReals)\n",
    "mdl.rg = Var(domain=NonNegativeReals)\n",
    "mdl.locgo = Var(domain=NonNegativeReals)\n",
    "mdl.hocgo = Var(domain=NonNegativeReals)\n",
    "mdl.cg = Var(domain=NonNegativeReals)\n",
    "mdl.co = Var(domain=NonNegativeReals)\n",
    "mdl.lnpmf = Var(domain=NonNegativeReals)\n",
    "mdl.lnrmf = Var(domain=NonNegativeReals)\n",
    "mdl.mnpmf = Var(domain=NonNegativeReals)\n",
    "mdl.mnrmf = Var(domain=NonNegativeReals)\n",
    "mdl.hnpmf = Var(domain=NonNegativeReals)\n",
    "mdl.hnrmf = Var(domain=NonNegativeReals)\n",
    "mdl.rgpmf = Var(domain=NonNegativeReals)\n",
    "mdl.rgrmf = Var(domain=NonNegativeReals)\n",
    "mdl.cgpmf = Var(domain=NonNegativeReals)\n",
    "mdl.cgrmf = Var(domain=NonNegativeReals)\n",
    "mdl.lojf = Var(domain=NonNegativeReals)\n",
    "mdl.hojf = Var(domain=NonNegativeReals)\n",
    "mdl.rjf = Var(domain=NonNegativeReals)\n",
    "mdl.cojf = Var(domain=NonNegativeReals)\n",
    "mdl.rlbo = Var(domain=NonNegativeReals)\n",
    "mdl.pmf = Var(domain=NonNegativeReals)\n",
    "mdl.rmf = Var(domain=NonNegativeReals)\n",
    "mdl.jf = Var(domain=NonNegativeReals)\n",
    "mdl.fo = Var(domain=NonNegativeReals)\n",
    "mdl.lbo = Var(domain=NonNegativeReals)"
   ]
  },
  {
   "cell_type": "markdown",
   "metadata": {},
   "source": [
    "## Objective Function"
   ]
  },
  {
   "cell_type": "code",
   "execution_count": null,
   "metadata": {},
   "outputs": [],
   "source": [
    "def max_profit(mdl):\n",
    "    return sum(mdl.x[s,t] for s in mdl.S for t in mdl.T)\n",
    "\n",
    "mdl.OBJ = Objective(rule=max_profit, sense=maximize)"
   ]
  },
  {
   "cell_type": "markdown",
   "metadata": {},
   "source": [
    "## Constraints"
   ]
  },
  {
   "cell_type": "markdown",
   "metadata": {},
   "source": [
    "**crude**\n",
    "\n",
    "$cra\\leq 20000$\n",
    "\n",
    "$crb\\leq 30000$\n",
    "\n",
    "**distillation**\n",
    "\n",
    "$cra+crb\\leq 45000$\n",
    "\n",
    "**reforming**\n",
    "\n",
    "$lnrg+mnrg+hnrg\\leq 10000$\n",
    "\n",
    "**cracking**\n",
    "\n",
    "$locgo+hocgo\\leq 8000$\n",
    "\n",
    "**lube-oil**\n",
    "\n",
    "$500\\leq lbo \\leq 1000$\n",
    "\n",
    "**distillation fractions**\n",
    "\n",
    "$0.1*cra+0.15*crb=ln$\n",
    "\n",
    "$0.2*cra+0.25*crb=mn$\n",
    "\n",
    "$0.2*cra+0.18*crb=hn$\n",
    "\n",
    "$0.12*cra+0.08*crb=lo$\n",
    "\n",
    "$0.2*cra+0.19*crb=ho$\n",
    "\n",
    "$0.13*cra+0.12*crb=r$\n",
    "\n",
    "**reformed gasoline**\n",
    "\n",
    "$0.6*lnrg+0.52*mnrg+0.45*hnrg=rg$\n",
    "\n",
    "**cracked oil**\n",
    "\n",
    "$0.68*locgo+0.75*hocgo=co$\n",
    "\n",
    "**cracked gasoline**\n",
    "\n",
    "$0.28*locgo+0.2*hocgo=cg$\n",
    "\n",
    "**naphta**\n",
    "\n",
    "$lnrg+lnpmf+lnrmf=ln$\n",
    "\n",
    "$mnrg+mnpmf+mnrmf=mn$\n",
    "\n",
    "$hnrg+hnpmf+hnrmf=hn$\n",
    "\n"
   ]
  },
  {
   "cell_type": "code",
   "execution_count": 1,
   "metadata": {},
   "outputs": [
    {
     "ename": "NameError",
     "evalue": "name 'Constraint' is not defined",
     "output_type": "error",
     "traceback": [
      "\u001b[0;31m---------------------------------------------------------------------------\u001b[0m",
      "\u001b[0;31mNameError\u001b[0m                                 Traceback (most recent call last)",
      "\u001b[0;32m<ipython-input-1-65cbe999f303>\u001b[0m in \u001b[0;36m<module>\u001b[0;34m\u001b[0m\n\u001b[1;32m      2\u001b[0m     \u001b[0;32mreturn\u001b[0m \u001b[0mmdl\u001b[0m\u001b[0;34m.\u001b[0m\u001b[0mcra\u001b[0m \u001b[0;34m<=\u001b[0m \u001b[0;36m20000\u001b[0m\u001b[0;34m\u001b[0m\u001b[0;34m\u001b[0m\u001b[0m\n\u001b[1;32m      3\u001b[0m \u001b[0;34m\u001b[0m\u001b[0m\n\u001b[0;32m----> 4\u001b[0;31m \u001b[0mmdl\u001b[0m\u001b[0;34m.\u001b[0m\u001b[0mcra_con\u001b[0m \u001b[0;34m=\u001b[0m \u001b[0mConstraint\u001b[0m\u001b[0;34m(\u001b[0m\u001b[0mrule\u001b[0m\u001b[0;34m=\u001b[0m\u001b[0mcra_expr\u001b[0m\u001b[0;34m)\u001b[0m\u001b[0;34m\u001b[0m\u001b[0;34m\u001b[0m\u001b[0m\n\u001b[0m\u001b[1;32m      5\u001b[0m \u001b[0;34m\u001b[0m\u001b[0m\n\u001b[1;32m      6\u001b[0m \u001b[0;32mdef\u001b[0m \u001b[0mcrb_expr\u001b[0m\u001b[0;34m(\u001b[0m\u001b[0mmdl\u001b[0m\u001b[0;34m)\u001b[0m\u001b[0;34m:\u001b[0m\u001b[0;34m\u001b[0m\u001b[0;34m\u001b[0m\u001b[0m\n",
      "\u001b[0;31mNameError\u001b[0m: name 'Constraint' is not defined"
     ]
    }
   ],
   "source": [
    "def cra_expr(mdl):\n",
    "    return mdl.cra <= 20000\n",
    "\n",
    "mdl.cra_con = Constraint(rule=cra_expr)\n",
    "\n",
    "def crb_expr(mdl):\n",
    "    return mdl.crb <= 30000\n",
    "\n",
    "mdl.crb_con = Constraint(rule=crb_expr)\n",
    "\n",
    "def distillation_expr(mdl):\n",
    "    return mdl.cra + mdl.crb <= 45000\n",
    "\n",
    "mdl.distillation_con = Constraint(rule=distillation_expr)\n",
    "\n",
    "def reforming_expr(mdl):\n",
    "    return mdl.lnrg + mdl.mnrg + mdl.hnrg <= 10000\n",
    "\n",
    "mdl.reforming_con = Constraint(rule=reforming_expr)\n",
    "\n",
    "def cracking_expr(mdl):\n",
    "    return mdl.locgo + mdl.hocgo <= 8000\n",
    "\n",
    "mdl.cracking_con = Constraint(rule=cracking_expr)\n",
    "\n",
    "def lube_oil_lb_expr(mdl):\n",
    "    return mdl.lbo >= 500\n",
    "\n",
    "mdl.lube_oil_lb_con = Constraint(rule=lube_oil_lb_expr)\n",
    "\n",
    "def lube_oil_ub_expr(mdl):\n",
    "    return mdl.lbo <= 1000\n",
    "\n",
    "mdl.lube_oil_ub_con = Constraint(rule=lube_oil_ub_expr)\n",
    "\n",
    "def light_naphta_mix_expr(mdl):\n",
    "    return 0.1*mdl.cra + 0.15*mdl.crb == mdl.ln\n",
    "\n",
    "mdl.light_naphta_mix_con = Constraint(rule=light_naphta_mix_expr)\n",
    "\n",
    "def medium_naphta_mix_expr(mdl):\n",
    "    return 0.2*mdl.cra + 0.25*mdl.crb == mdl.mn\n",
    "\n",
    "mdl.medium_naphta_mix_con = Constraint(rule=medium_naphta_mix_expr)\n",
    "\n",
    "def heavy_naphta_mix_expr(mdl):\n",
    "    return 0.2*mdl.cra + 0.18*mdl.crb == mdl.hn\n",
    "\n",
    "mdl.heavy_naphta_mix_con = Constraint(rule=heavy_naphta_mix_expr)\n",
    "\n",
    "def light_oil_mix_expr(mdl):\n",
    "    return 0.12*mdl.cra + 0.08*mdl.crb == mdl.lo\n",
    "\n",
    "mdl.light_oil_mix_con = Constraint(rule=light_oil_mix_expr)\n",
    "\n",
    "def heavy_oil_mix_expr(mdl):\n",
    "    return 0.2*mdl.cra + 0.19*mdl.crb == mdl.ho\n",
    "\n",
    "mdl.heavy_oil_mix_con = Constraint(rule=heavy_oil_mix_expr)\n",
    "\n",
    "def residuum_mix_expr(mdl):\n",
    "    return 0.13*mdl.cra + 0.12*mdl.crb == mdl.r\n",
    "\n",
    "mdl.residuum_mix_expr = Constraint(rule=residuum_mix_expr)\n",
    "\n",
    "def naphta_reformed_gasoline_expr(mdl):\n",
    "    return 0.6*mdl.lnrg + 0.52*mdl.mnrg + 0.45*mdl.hnrg == mdl.rg\n",
    "\n",
    "mdl.naphta_reformed_gasoline_con = Constraint(rule=naphta_reformed_gasoline_expr)\n",
    "\n",
    "def cracked_oil_expr(mdl):\n",
    "    return 0.68*mdl.locgo + 0.75*mdl.hocgo == mdl.co\n",
    "\n",
    "mdl.cracked_oil_con = Constraint(rule=cracked_oil_expr)\n",
    "\n",
    "def cracked_gasoline_expr(mdl):\n",
    "    return 0.28*mdl.locgo + 0.2*mdl.hocgo == mdl.cg\n",
    "\n",
    "mdl.cracked_gasoline_con = Constraint(rule=cracked_gasoline_expr)\n",
    "\n",
    "def light_naphta_expr(mdl):\n",
    "    return mdl.lnrg + mdl.lnpmf + mdl.lnrmf == mdl.ln\n",
    "\n",
    "mdl.light_naphta_con = Constraint(rule=light_naphta_expr)\n",
    "\n",
    "def medium_naphta_expr(mdl):\n",
    "    return mdl.mnrg + mdl.mnpmf + mdl.mnrmf == mdl.mn\n",
    "\n",
    "mdl.medium_naphta_con = Constraint(rule=medium_naphta_expr)\n",
    "\n",
    "def heavy_naphta_expr(mdl):\n",
    "    return mdl.hnrg + mdl.hnpmf + mdl.hnrmf == mdl.hn\n",
    "\n",
    "mdl.heavy_naphta_con = Constraint(rule=heavy_naphta_expr)"
   ]
  },
  {
   "cell_type": "code",
   "execution_count": null,
   "metadata": {},
   "outputs": [],
   "source": []
  },
  {
   "cell_type": "code",
   "execution_count": null,
   "metadata": {},
   "outputs": [],
   "source": []
  },
  {
   "cell_type": "code",
   "execution_count": null,
   "metadata": {},
   "outputs": [],
   "source": []
  }
 ],
 "metadata": {
  "kernelspec": {
   "display_name": "Python 3",
   "language": "python",
   "name": "python3"
  },
  "language_info": {
   "codemirror_mode": {
    "name": "ipython",
    "version": 3
   },
   "file_extension": ".py",
   "mimetype": "text/x-python",
   "name": "python",
   "nbconvert_exporter": "python",
   "pygments_lexer": "ipython3",
   "version": "3.9.5"
  },
  "toc": {
   "nav_menu": {},
   "number_sections": true,
   "sideBar": true,
   "skip_h1_title": false,
   "toc_cell": false,
   "toc_position": {
    "height": "826.867px",
    "left": "0px",
    "right": "1706px",
    "top": "112.133px",
    "width": "212px"
   },
   "toc_section_display": "block",
   "toc_window_display": true
  },
  "varInspector": {
   "cols": {
    "lenName": 16,
    "lenType": 16,
    "lenVar": 40
   },
   "kernels_config": {
    "python": {
     "delete_cmd_postfix": "",
     "delete_cmd_prefix": "del ",
     "library": "var_list.py",
     "varRefreshCmd": "print(var_dic_list())"
    },
    "r": {
     "delete_cmd_postfix": ") ",
     "delete_cmd_prefix": "rm(",
     "library": "var_list.r",
     "varRefreshCmd": "cat(var_dic_list()) "
    }
   },
   "types_to_exclude": [
    "module",
    "function",
    "builtin_function_or_method",
    "instance",
    "_Feature"
   ],
   "window_display": false
  }
 },
 "nbformat": 4,
 "nbformat_minor": 4
}
